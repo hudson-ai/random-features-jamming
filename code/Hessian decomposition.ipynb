{
 "cells": [
  {
   "cell_type": "code",
   "execution_count": null,
   "metadata": {},
   "outputs": [],
   "source": [
    "import numpy as np\n",
    "from jax import numpy as jnp\n",
    "from jax import grad, hessian, jacobian\n",
    "from matplotlib import pyplot as plt\n",
    "%matplotlib inline\n",
    "%config InlineBackend.figure_format = 'svg'"
   ]
  },
  {
   "cell_type": "code",
   "execution_count": null,
   "metadata": {},
   "outputs": [],
   "source": [
    "N = 1000\n",
    "d = 380\n",
    "x = np.random.randn(N, d)/np.sqrt(d)\n",
    "w0 = np.random.randn(d)\n",
    "\n",
    "y = np.sign(x@w0 + 1*np.random.randn(N))"
   ]
  },
  {
   "cell_type": "code",
   "execution_count": null,
   "metadata": {},
   "outputs": [],
   "source": [
    "from sklearn.svm import LinearSVC as SVM\n",
    "svm = SVM(penalty='l2', loss='squared_hinge', dual=False, fit_intercept=False, C=1e10)\n",
    "svm = svm.fit(x, y)"
   ]
  },
  {
   "cell_type": "code",
   "execution_count": null,
   "metadata": {},
   "outputs": [],
   "source": [
    "w = svm.coef_.ravel()"
   ]
  },
  {
   "cell_type": "code",
   "execution_count": null,
   "metadata": {},
   "outputs": [],
   "source": [
    "plt.scatter(w, w0)"
   ]
  },
  {
   "cell_type": "code",
   "execution_count": null,
   "metadata": {},
   "outputs": [],
   "source": [
    "force = lambda w: jnp.maximum(0, 1 - y*(x@w))\n",
    "U = lambda w: jnp.sum(1/2*force(w)**2)"
   ]
  },
  {
   "cell_type": "code",
   "execution_count": null,
   "metadata": {},
   "outputs": [],
   "source": [
    "U(w)"
   ]
  },
  {
   "cell_type": "code",
   "execution_count": null,
   "metadata": {},
   "outputs": [],
   "source": [
    "Hu = hessian(U)(w)"
   ]
  },
  {
   "cell_type": "code",
   "execution_count": null,
   "metadata": {},
   "outputs": [],
   "source": [
    "eigs = np.linalg.eigvalsh(Hu)\n",
    "h=plt.hist(np.sign(eigs)*np.sqrt(np.abs(eigs)), 100)\n",
    "# vals, bins = np.histogram(np.sign(eigs)*np.sqrt(np.abs(eigs)), 100)\n",
    "# plt.plot(bins[:-1], vals)\n",
    "# plt.axvline(0)\n",
    "plt.ylim(0, 20)"
   ]
  },
  {
   "cell_type": "code",
   "execution_count": null,
   "metadata": {},
   "outputs": [],
   "source": [
    "jac_del = jacobian(force)(w)\n",
    "H0 = jnp.einsum('ni,nj->ij', jac_del, jac_del)"
   ]
  },
  {
   "cell_type": "code",
   "execution_count": null,
   "metadata": {},
   "outputs": [],
   "source": [
    "Hp = (Hu - H0)\n",
    "eigs = np.linalg.eigvalsh(Hp)\n",
    "eigs = eigs[eigs != 0]\n",
    "h=plt.hist(np.sign(eigs)/np.sqrt(np.abs(eigs)), 100)\n",
    "plt.ylim(0, 30)"
   ]
  },
  {
   "cell_type": "code",
   "execution_count": null,
   "metadata": {},
   "outputs": [],
   "source": [
    "# h = plt.hist(np.linalg.eigvalsh(Hu), 100)\n",
    "# h = plt.hist(np.linalg.eigvalsh(H0), 100, alpha=.5)"
   ]
  },
  {
   "cell_type": "code",
   "execution_count": null,
   "metadata": {},
   "outputs": [],
   "source": [
    "jacobian(jacobian(force))(w)"
   ]
  },
  {
   "cell_type": "code",
   "execution_count": null,
   "metadata": {},
   "outputs": [],
   "source": [
    "hes_del = hessian(force)(w)\n",
    "Hp = jnp.einsum('n,nij->ij', force(w), hes_del)"
   ]
  },
  {
   "cell_type": "code",
   "execution_count": null,
   "metadata": {},
   "outputs": [],
   "source": [
    "eigs = np.linalg.eigvalsh(Hp)\n",
    "# h=plt.hist(np.sign(eigs)/np.sqrt(np.abs(eigs)), 100)\n",
    "# plt.ylim(0, 30)"
   ]
  },
  {
   "cell_type": "code",
   "execution_count": null,
   "metadata": {},
   "outputs": [],
   "source": [
    "hes_del"
   ]
  },
  {
   "cell_type": "code",
   "execution_count": null,
   "metadata": {},
   "outputs": [],
   "source": []
  }
 ],
 "metadata": {
  "kernelspec": {
   "display_name": "Python [conda env:thesis]",
   "language": "python",
   "name": "conda-env-thesis-py"
  },
  "language_info": {
   "codemirror_mode": {
    "name": "ipython",
    "version": 3
   },
   "file_extension": ".py",
   "mimetype": "text/x-python",
   "name": "python",
   "nbconvert_exporter": "python",
   "pygments_lexer": "ipython3",
   "version": "3.8.5"
  }
 },
 "nbformat": 4,
 "nbformat_minor": 4
}
