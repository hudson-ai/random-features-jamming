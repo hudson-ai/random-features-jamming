{
 "cells": [
  {
   "cell_type": "code",
   "execution_count": null,
   "metadata": {},
   "outputs": [],
   "source": [
    "import numpy as np\n",
    "import tensorflow as tf\n",
    "\n",
    "from matplotlib import pyplot as plt\n",
    "%matplotlib inline\n",
    "%config InlineBackend.figure_format = 'retina'"
   ]
  },
  {
   "cell_type": "code",
   "execution_count": null,
   "metadata": {},
   "outputs": [],
   "source": [
    "n_data = 50\n",
    "x = np.sort(np.random.uniform(low=-5, high=5, size=n_data)).astype(np.float32)\n",
    "y = (x + np.cos(np.pi*x) + (.1 + .9*np.sin(10*np.pi*x))*np.random.randn(n_data)).astype(np.float32)\n",
    "\n",
    "x_test = (np.random.uniform(low=-5, high=5, size=n_data)).astype(np.float32)"
   ]
  },
  {
   "cell_type": "code",
   "execution_count": null,
   "metadata": {},
   "outputs": [],
   "source": [
    "plt.scatter(x,y)"
   ]
  },
  {
   "cell_type": "code",
   "execution_count": null,
   "metadata": {},
   "outputs": [],
   "source": [
    "d = 2\n",
    "N = 30\n",
    "from tensorflow.keras import Sequential\n",
    "from tensorflow.keras.layers import Dense\n",
    "\n",
    "model = Sequential()\n",
    "for i in range(d):\n",
    "    if i == 0:\n",
    "        model.add(Dense(N, batch_input_shape=(None, 1), kernel_initializer='glorot_normal', activation='tanh', use_bias=False))\n",
    "    else:\n",
    "        model.add(Dense(N))\n",
    "model.add(Dense(1))"
   ]
  },
  {
   "cell_type": "code",
   "execution_count": null,
   "metadata": {},
   "outputs": [],
   "source": [
    "def K(x,y):\n",
    "    with tf.GradientTape(persistent=True) as tape:\n",
    "\n",
    "        out_x = model(np.array(x.reshape(-1, 1)))\n",
    "        out_y = model(np.array(y.reshape(-1, 1)))\n",
    "\n",
    "    Jx = tape.jacobian(out_x, model.trainable_weights)\n",
    "    gx = np.concatenate([g.numpy().reshape((len(x), -1)) for g in Jx], -1)\n",
    "\n",
    "    Jy = tape.jacobian(out_y, model.trainable_weights)\n",
    "    gy = np.concatenate([g.numpy().reshape((len(y), -1)) for g in Jy], -1)\n",
    "\n",
    "    return gx @ gy.T"
   ]
  },
  {
   "cell_type": "code",
   "execution_count": null,
   "metadata": {},
   "outputs": [],
   "source": [
    "Theta = K(x,x)\n",
    "chi = K(x_test,x)"
   ]
  },
  {
   "cell_type": "code",
   "execution_count": null,
   "metadata": {},
   "outputs": [],
   "source": [
    "plt.pcolor(chi)"
   ]
  },
  {
   "cell_type": "code",
   "execution_count": null,
   "metadata": {},
   "outputs": [],
   "source": [
    "plt.pcolor(Theta)"
   ]
  },
  {
   "cell_type": "code",
   "execution_count": null,
   "metadata": {},
   "outputs": [],
   "source": [
    "plt.pcolor((chi + .001*np.eye(len(x))) @ np.linalg.inv(Theta + .001*np.eye(len(x))))"
   ]
  },
  {
   "cell_type": "code",
   "execution_count": null,
   "metadata": {},
   "outputs": [],
   "source": [
    "plt.scatter(x, y, color = 'green')\n",
    "plt.scatter(x_test, ((chi + .001*np.eye(len(x))) @ np.linalg.pinv(Theta + .001*np.eye(len(x))) @ y), color='red')"
   ]
  },
  {
   "cell_type": "code",
   "execution_count": null,
   "metadata": {},
   "outputs": [],
   "source": []
  }
 ],
 "metadata": {
  "kernelspec": {
   "display_name": "Python [conda env:thesis]",
   "language": "python",
   "name": "conda-env-thesis-py"
  },
  "language_info": {
   "codemirror_mode": {
    "name": "ipython",
    "version": 3
   },
   "file_extension": ".py",
   "mimetype": "text/x-python",
   "name": "python",
   "nbconvert_exporter": "python",
   "pygments_lexer": "ipython3",
   "version": "3.7.6"
  }
 },
 "nbformat": 4,
 "nbformat_minor": 4
}
