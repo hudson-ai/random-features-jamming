{
 "cells": [
  {
   "cell_type": "code",
   "execution_count": null,
   "metadata": {},
   "outputs": [],
   "source": [
    "import jax.numpy as np\n",
    "import tensorflow as tf\n",
    "import neural_tangents as nt\n",
    "\n",
    "from matplotlib import pyplot as plt\n",
    "%matplotlib inline\n",
    "%config InlineBackend.figure_format = 'retina'"
   ]
  },
  {
   "cell_type": "code",
   "execution_count": null,
   "metadata": {},
   "outputs": [],
   "source": [
    "from jax import random\n",
    "from neural_tangents import stax\n",
    "\n",
    "N = 600\n",
    "P = 1000\n",
    "\n",
    "gamma = P/N\n",
    "\n",
    "init_fn, apply_fn, kernel_fn = stax.serial(\n",
    "    stax.Dense(P), #stax.Identity(),\n",
    "    stax.Dense(1)\n",
    ")\n",
    "\n",
    "\n",
    "key1, key2 = random.split(random.PRNGKey(1))\n",
    "x1 = random.normal(key1, (N, 1))\n",
    "x2 = random.normal(key2, (N, 1))"
   ]
  },
  {
   "cell_type": "code",
   "execution_count": null,
   "metadata": {},
   "outputs": [],
   "source": [
    "W = random.normal(key=key2, shape=(P, 1)) / np.sqrt(P)\n",
    "def apply_fn(W, x, rng=None):\n",
    "    return np.outer(x, W).sum(-1)"
   ]
  },
  {
   "cell_type": "code",
   "execution_count": null,
   "metadata": {},
   "outputs": [],
   "source": [
    "kernel_fn = nt.empirical_kernel_fn(apply_fn)\n",
    "K = kernel_fn(x1, x1, W, 'ntk')"
   ]
  },
  {
   "cell_type": "code",
   "execution_count": null,
   "metadata": {},
   "outputs": [],
   "source": [
    "eigvals, eigvecs = np.linalg.eigh(K)\n",
    "hist = plt.hist(eigvals[:-1], bins = 100)"
   ]
  },
  {
   "cell_type": "code",
   "execution_count": null,
   "metadata": {},
   "outputs": [],
   "source": [
    "plt.plot(eigvecs[-7])"
   ]
  },
  {
   "cell_type": "code",
   "execution_count": null,
   "metadata": {},
   "outputs": [],
   "source": []
  },
  {
   "cell_type": "code",
   "execution_count": null,
   "metadata": {},
   "outputs": [],
   "source": [
    "v = eigvecs[-1]"
   ]
  },
  {
   "cell_type": "code",
   "execution_count": null,
   "metadata": {},
   "outputs": [],
   "source": [
    "plt.imshow(np.outer(v, v))"
   ]
  },
  {
   "cell_type": "code",
   "execution_count": null,
   "metadata": {},
   "outputs": [],
   "source": [
    "np.outer(v, v)"
   ]
  },
  {
   "cell_type": "code",
   "execution_count": null,
   "metadata": {},
   "outputs": [],
   "source": [
    "plt.scatter(np.arange(len(v)), v)"
   ]
  },
  {
   "cell_type": "code",
   "execution_count": null,
   "metadata": {},
   "outputs": [],
   "source": [
    "K.mean()"
   ]
  },
  {
   "cell_type": "code",
   "execution_count": null,
   "metadata": {},
   "outputs": [],
   "source": [
    "plt.imshow(K)"
   ]
  },
  {
   "cell_type": "code",
   "execution_count": null,
   "metadata": {},
   "outputs": [],
   "source": [
    "a = ((gamma-1)/gamma)**2\n",
    "b = ((gamma+1)/gamma)**2\n",
    "def H(x): \n",
    "    return (gamma**2 / (2 * np.pi * x)  * np.sqrt((b-x)*(x-a))) * (x > a) * (x < b)\n",
    "\n",
    "\n",
    "x = np.arange(a, b, .00001)\n",
    "plt.plot(x, H(x))"
   ]
  },
  {
   "cell_type": "code",
   "execution_count": null,
   "metadata": {},
   "outputs": [],
   "source": []
  },
  {
   "cell_type": "code",
   "execution_count": null,
   "metadata": {},
   "outputs": [],
   "source": []
  },
  {
   "cell_type": "code",
   "execution_count": null,
   "metadata": {},
   "outputs": [],
   "source": []
  },
  {
   "cell_type": "code",
   "execution_count": null,
   "metadata": {},
   "outputs": [],
   "source": []
  },
  {
   "cell_type": "code",
   "execution_count": null,
   "metadata": {},
   "outputs": [],
   "source": [
    "import neural_tangents as nt\n",
    "\n",
    "x_train, x_test = x1, x2\n",
    "y_train = (x1[:,0] + x1[:,1]*np.cos(x1[:,0])).reshape(-1,1) + random.uniform(key1, shape=(100, 1))\n",
    "\n",
    "y_test_nngp = nt.predict.gp_inference(kernel_fn, x_train, y_train, x_test,\n",
    "                                      get='nngp')\n",
    "# (20, 1) np.ndarray test predictions of an infinite Bayesian network\n",
    "\n",
    "y_test_ntk = nt.predict.gp_inference(kernel_fn, x_train, y_train, x_test,\n",
    "                                     get='ntk')\n",
    "# (20, 1) np.ndarray test predictions of an infinite continuous\n",
    "# gradient descent trained network at convergence (t = inf)"
   ]
  },
  {
   "cell_type": "code",
   "execution_count": null,
   "metadata": {},
   "outputs": [],
   "source": [
    "plt.scatter(x_test[:,0], y_test_ntk)"
   ]
  },
  {
   "cell_type": "code",
   "execution_count": null,
   "metadata": {},
   "outputs": [],
   "source": [
    "plt.scatter(x_train[:,0], y_train)"
   ]
  },
  {
   "cell_type": "code",
   "execution_count": null,
   "metadata": {},
   "outputs": [],
   "source": []
  }
 ],
 "metadata": {
  "kernelspec": {
   "display_name": "Python [conda env:thesis]",
   "language": "python",
   "name": "conda-env-thesis-py"
  },
  "language_info": {
   "codemirror_mode": {
    "name": "ipython",
    "version": 3
   },
   "file_extension": ".py",
   "mimetype": "text/x-python",
   "name": "python",
   "nbconvert_exporter": "python",
   "pygments_lexer": "ipython3",
   "version": "3.7.6"
  }
 },
 "nbformat": 4,
 "nbformat_minor": 4
}
