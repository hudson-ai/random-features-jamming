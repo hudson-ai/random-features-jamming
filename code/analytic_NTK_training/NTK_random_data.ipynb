{
 "cells": [
  {
   "cell_type": "code",
   "execution_count": null,
   "metadata": {},
   "outputs": [],
   "source": [
    "import tensorflow as tf\n",
    "import neural_tangents as nt\n",
    "from neural_tangents import stax\n",
    "import jax.numpy as np\n",
    "from jax import random\n",
    "\n",
    "from matplotlib import pyplot as plt\n",
    "%matplotlib inline\n",
    "%config InlineBackend.figure_format = 'retina'"
   ]
  },
  {
   "cell_type": "code",
   "execution_count": null,
   "metadata": {},
   "outputs": [],
   "source": [
    "def find_h(N, L, d, n=1, bias=True):\n",
    "    # Modified from https://github.com/mariogeiger/nn_jamming/blob/master/constN.py\n",
    "    # TODO: bias=False?\n",
    "    '''\n",
    "        For a network with: \n",
    "        \n",
    "        d input dimensionality, \n",
    "        L layers, \n",
    "        N total parameters, \n",
    "        n final outputs,\n",
    "        \n",
    "        this finds the corresponding width h \n",
    "    '''\n",
    "    assert L >= 1\n",
    "\n",
    "    if L == 1:\n",
    "        # solve : N = h*(d+1) + n*(h+1)\n",
    "        h = (N - n) / (d + n + 1)\n",
    "    else:\n",
    "        # solve : N = h*(d+1) + (L-1)*h*(h+1) + n*(h+1)\n",
    "        h = -(d+L+n - ((d+L+n)**2 + 4*(L-1)*(N-n))**.5)/(2*(L-1))\n",
    "    return round(h)\n",
    "\n",
    "def find_N(h, L, d, n=1):\n",
    "    return h*(d+1) + (L-1)*h*(h+1) + n*(h+1)"
   ]
  },
  {
   "cell_type": "code",
   "execution_count": null,
   "metadata": {},
   "outputs": [],
   "source": [
    "P = 1000\n",
    "d = 50\n",
    "L = 2\n",
    "\n",
    "N = 20000\n",
    "\n",
    "h = find_h(N, L, d)"
   ]
  },
  {
   "cell_type": "code",
   "execution_count": null,
   "metadata": {},
   "outputs": [],
   "source": [
    "N/P, h"
   ]
  },
  {
   "cell_type": "code",
   "execution_count": null,
   "metadata": {},
   "outputs": [],
   "source": [
    "init_fn, apply_fn, kernel_fn_inf = stax.serial(\n",
    "    *[stax.Dense(h), stax.Erf()]*L,\n",
    "    stax.Dense(1)\n",
    ")"
   ]
  },
  {
   "cell_type": "code",
   "execution_count": null,
   "metadata": {},
   "outputs": [],
   "source": [
    "trainkey, testkey, kernelkey = random.split(random.PRNGKey(1), num=3)\n",
    "x_train = random.normal(trainkey, (P, d))\n",
    "x_test = random.normal(testkey, (P, d))\n",
    "\n",
    "# project to hyper-sphere of radius sqrt(d)\n",
    "x_train = np.sqrt(d) * x_train / np.linalg.norm(x_train, axis = 1, keepdims=True)\n",
    "x_test = np.sqrt(d) * x_test / np.linalg.norm(x_test, axis = 1, keepdims=True)"
   ]
  },
  {
   "cell_type": "code",
   "execution_count": null,
   "metadata": {},
   "outputs": [],
   "source": [
    "_, init_params = init_fn(kernelkey, x_train.shape)"
   ]
  },
  {
   "cell_type": "code",
   "execution_count": null,
   "metadata": {},
   "outputs": [],
   "source": [
    "N_actual = sum(sum([[params.size for params in layer] for layer in init_params], []))\n",
    "N, N_actual"
   ]
  },
  {
   "cell_type": "code",
   "execution_count": null,
   "metadata": {},
   "outputs": [],
   "source": [
    "kernel_fn = nt.empirical_kernel_fn(apply_fn)"
   ]
  },
  {
   "cell_type": "code",
   "execution_count": null,
   "metadata": {},
   "outputs": [],
   "source": [
    "gram_ntk = kernel_fn(x_train, x_train, init_params, get='ntk')"
   ]
  },
  {
   "cell_type": "code",
   "execution_count": null,
   "metadata": {},
   "outputs": [],
   "source": [
    "eigs = np.linalg.eigvalsh(gram_ntk[:,:, 0, 0])"
   ]
  },
  {
   "cell_type": "code",
   "execution_count": null,
   "metadata": {},
   "outputs": [],
   "source": [
    "plt.figure()\n",
    "hist = plt.hist(eigs[:-4], 100)\n",
    "plt.axvline(0, color='k', linestyle=':')\n",
    "plt.ylim(0,100)\n",
    "\n",
    "plt.figure()\n",
    "loghist = plt.hist(np.log(eigs), 100)"
   ]
  },
  {
   "cell_type": "markdown",
   "metadata": {},
   "source": [
    "# Do linearized neural networks exhibit jamming?"
   ]
  },
  {
   "cell_type": "code",
   "execution_count": null,
   "metadata": {},
   "outputs": [],
   "source": [
    "force = lambda f, y: 1/2 - f*y\n",
    "loss = lambda fx, y_hat: np.mean(1/2 * np.maximum(0, force(fx, y_hat))**2)"
   ]
  },
  {
   "cell_type": "code",
   "execution_count": null,
   "metadata": {},
   "outputs": [],
   "source": [
    "y_train = random.bernoulli(trainkey, p=.5, shape=(P,1))*2 - 1"
   ]
  },
  {
   "cell_type": "code",
   "execution_count": null,
   "metadata": {},
   "outputs": [],
   "source": [
    "g_dd = kernel_fn(x_train, x_train, init_params, get='ntk')"
   ]
  },
  {
   "cell_type": "code",
   "execution_count": null,
   "metadata": {},
   "outputs": [],
   "source": [
    "predict_fn = nt.predict.gradient_descent(g_dd, y_train, loss)\n",
    "# predict_fn = nt.predict.gradient_descent_mse(g_dd, y_train)"
   ]
  },
  {
   "cell_type": "code",
   "execution_count": null,
   "metadata": {},
   "outputs": [],
   "source": [
    "train_time = 5e4\n",
    "\n",
    "fx_train_initial = apply_fn(init_params, x_train)\n",
    "\n",
    "fx_train_final = predict_fn(\n",
    "    train_time, \n",
    "    fx_train_initial\n",
    ")\n",
    "loss_val = loss(fx_train_final, y_train)\n",
    "loss_val"
   ]
  },
  {
   "cell_type": "code",
   "execution_count": null,
   "metadata": {},
   "outputs": [],
   "source": [
    "plt.scatter(y_train, fx_train_final)"
   ]
  },
  {
   "cell_type": "code",
   "execution_count": null,
   "metadata": {},
   "outputs": [],
   "source": [
    "forces = np.ravel(force(fx_train_final, y_train))\n",
    "\n",
    "hist = plt.hist(forces, 50)"
   ]
  },
  {
   "cell_type": "code",
   "execution_count": null,
   "metadata": {},
   "outputs": [],
   "source": [
    "N_del = sum(forces > 0)\n",
    "N_del"
   ]
  },
  {
   "cell_type": "code",
   "execution_count": null,
   "metadata": {},
   "outputs": [],
   "source": [
    "overlaps = forces[forces > 0]\n",
    "gaps = forces[forces <= 0]\n",
    "\n",
    "len(overlaps), len(gaps)"
   ]
  },
  {
   "cell_type": "markdown",
   "metadata": {},
   "source": [
    "## Training loop"
   ]
  },
  {
   "cell_type": "code",
   "execution_count": null,
   "metadata": {},
   "outputs": [],
   "source": [
    "from tqdm import notebook as tqdm"
   ]
  },
  {
   "cell_type": "code",
   "execution_count": null,
   "metadata": {},
   "outputs": [],
   "source": [
    "losses = []\n",
    "N_dels = []\n",
    "overlaps = []\n",
    "gaps = []\n",
    "Ns = []\n",
    "\n",
    "for hi in tqdm.trange(h, 0, -1):\n",
    "    Ni = find_N(hi, L, d)\n",
    "    Ns.append(Ni)\n",
    "\n",
    "    init_fn, apply_fn, kernel_fn_inf = stax.serial(\n",
    "        *[stax.Dense(hi), stax.Erf()]*L,\n",
    "        stax.Dense(1)\n",
    "    )\n",
    "    _, init_params = init_fn(kernelkey, x_train.shape)\n",
    "\n",
    "    kernel_fn = nt.empirical_kernel_fn(apply_fn)\n",
    "\n",
    "    g_dd = kernel_fn(x_train, x_train, init_params, get='ntk')\n",
    "\n",
    "    predict_fn = nt.predict.gradient_descent(g_dd, y_train, loss)\n",
    "#     predict_fn = nt.predict.gradient_descent_mse(g_dd, y_train)\n",
    "\n",
    "\n",
    "\n",
    "    fx_train_initial = apply_fn(init_params, x_train)\n",
    "    fx_train_final = predict_fn(\n",
    "        train_time, \n",
    "        fx_train_initial\n",
    "    )\n",
    "\n",
    "    loss_val = loss(fx_train_final, y_train)\n",
    "    forces = np.ravel(force(fx_train_final, y_train))\n",
    "\n",
    "    N_del = sum(forces > 0)\n",
    "    overlap = forces[forces > 0]\n",
    "    gap = forces[forces <= 0]\n",
    "    \n",
    "    losses.append(loss_val)\n",
    "    N_dels.append(N_del)\n",
    "    overlaps.append(overlap)\n",
    "    gaps.append(gap)"
   ]
  },
  {
   "cell_type": "code",
   "execution_count": null,
   "metadata": {},
   "outputs": [],
   "source": [
    "plt.hist(forces)"
   ]
  },
  {
   "cell_type": "code",
   "execution_count": null,
   "metadata": {},
   "outputs": [],
   "source": [
    "losses = np.array(losses)\n",
    "N_dels = np.array(N_dels)\n",
    "Ns = np.array(Ns)\n",
    "overlaps = [np.array(overlap) for overlap in overlaps]\n",
    "gaps = [np.array(gap) for gap in gaps]"
   ]
  },
  {
   "cell_type": "code",
   "execution_count": null,
   "metadata": {},
   "outputs": [],
   "source": [
    "N_dels"
   ]
  },
  {
   "cell_type": "code",
   "execution_count": null,
   "metadata": {},
   "outputs": [],
   "source": [
    "Ns"
   ]
  },
  {
   "cell_type": "code",
   "execution_count": null,
   "metadata": {},
   "outputs": [],
   "source": [
    "plt.scatter((P/Ns)[:-10], (N_dels/Ns)[:-10])\n",
    "plt.xlabel('$P/N$')\n",
    "plt.ylabel('$N_\\Delta/N$')"
   ]
  },
  {
   "cell_type": "code",
   "execution_count": null,
   "metadata": {},
   "outputs": [],
   "source": [
    "plt.scatter((losses), (N_dels/Ns))\n",
    "plt.xlabel('$\\mathcal{L}$')\n",
    "plt.ylabel('$N_\\Delta/N$')\n",
    "plt.xlim(0,.06)\n",
    "plt.ylim(0,1)"
   ]
  },
  {
   "cell_type": "code",
   "execution_count": null,
   "metadata": {},
   "outputs": [],
   "source": [
    "plt.scatter(P/Ns, losses)\n",
    "plt.xlabel('P/N')\n",
    "plt.ylabel('$\\mathcal{L}$')\n",
    "plt.axvline(1, color='k', linestyle =':', label = 'P/N = 1')\n",
    "plt.legend()"
   ]
  },
  {
   "cell_type": "code",
   "execution_count": null,
   "metadata": {},
   "outputs": [],
   "source": [
    "plt.scatter(P/Ns, np.array([len(o) for o in overlaps])/Ns)\n",
    "plt.xlabel('$P/N$')\n",
    "plt.ylabel('$\\Delta^+/N$')"
   ]
  },
  {
   "cell_type": "code",
   "execution_count": null,
   "metadata": {},
   "outputs": [],
   "source": [
    "plt.scatter(P/Ns, np.array([len(g) for g in gaps])/Ns)\n",
    "plt.xlabel('$P/N$')\n",
    "plt.ylabel('$\\Delta^-/N$')"
   ]
  },
  {
   "cell_type": "markdown",
   "metadata": {},
   "source": [
    "Hessian?"
   ]
  },
  {
   "cell_type": "code",
   "execution_count": null,
   "metadata": {},
   "outputs": [],
   "source": [
    "from jax import jacfwd"
   ]
  },
  {
   "cell_type": "code",
   "execution_count": null,
   "metadata": {},
   "outputs": [],
   "source": [
    "H = jacfwd(apply_fn)(init_params, x_train)"
   ]
  },
  {
   "cell_type": "code",
   "execution_count": null,
   "metadata": {},
   "outputs": [],
   "source": [
    "[[inner.shape for inner in outer] for outer in H]"
   ]
  },
  {
   "cell_type": "code",
   "execution_count": null,
   "metadata": {},
   "outputs": [],
   "source": [
    "[[inner.shape for inner in outer] for outer in init_params]"
   ]
  },
  {
   "cell_type": "code",
   "execution_count": null,
   "metadata": {},
   "outputs": [],
   "source": [
    "expansion = nt.taylor_expand(apply_fn, init_params, 2)"
   ]
  },
  {
   "cell_type": "code",
   "execution_count": null,
   "metadata": {},
   "outputs": [],
   "source": [
    "expansion(init_params, x_train)"
   ]
  },
  {
   "cell_type": "code",
   "execution_count": null,
   "metadata": {},
   "outputs": [],
   "source": []
  }
 ],
 "metadata": {
  "kernelspec": {
   "display_name": "Python [conda env:thesis]",
   "language": "python",
   "name": "conda-env-thesis-py"
  },
  "language_info": {
   "codemirror_mode": {
    "name": "ipython",
    "version": 3
   },
   "file_extension": ".py",
   "mimetype": "text/x-python",
   "name": "python",
   "nbconvert_exporter": "python",
   "pygments_lexer": "ipython3",
   "version": "3.7.6"
  }
 },
 "nbformat": 4,
 "nbformat_minor": 4
}
