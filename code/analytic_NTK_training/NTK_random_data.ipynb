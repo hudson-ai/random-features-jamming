{
 "cells": [
  {
   "cell_type": "code",
   "execution_count": 1,
   "metadata": {},
   "outputs": [],
   "source": [
    "import tensorflow as tf\n",
    "import neural_tangents as nt\n",
    "from neural_tangents import stax\n",
    "import jax.numpy as np\n",
    "from jax import random\n",
    "\n",
    "from matplotlib import pyplot as plt\n",
    "%matplotlib inline\n",
    "%config InlineBackend.figure_format = 'retina'"
   ]
  },
  {
   "cell_type": "code",
   "execution_count": 2,
   "metadata": {},
   "outputs": [],
   "source": [
    "def find_h(N, L, d, n=1, bias=True):\n",
    "    # Modified from https://github.com/mariogeiger/nn_jamming/blob/master/constN.py\n",
    "    # TODO: bias=False?\n",
    "    '''\n",
    "        For a network with: \n",
    "        \n",
    "        d input dimensionality, \n",
    "        L layers, \n",
    "        N total parameters, \n",
    "        n final outputs,\n",
    "        \n",
    "        this finds the corresponding width h \n",
    "    '''\n",
    "    assert L >= 1\n",
    "\n",
    "    if L == 1:\n",
    "        # solve : N = h*(d+1) + n*(h+1)\n",
    "        h = (N - n) / (d + n + 1)\n",
    "    else:\n",
    "        # solve : N = h*(d+1) + (L-1)*h*(h+1) + n*(h+1)\n",
    "        h = -(d+L+n - ((d+L+n)**2 + 4*(L-1)*(N-n))**.5)/(2*(L-1))\n",
    "    return round(h)\n",
    "\n",
    "def find_N(h, L, d, n=1):\n",
    "    return h*(d+1) + (L-1)*h*(h+1) + n*(h+1)"
   ]
  },
  {
   "cell_type": "code",
   "execution_count": 30,
   "metadata": {},
   "outputs": [],
   "source": [
    "P = 1000\n",
    "d = 50\n",
    "L = 2\n",
    "\n",
    "N = 20000\n",
    "\n",
    "h = find_h(N, L, d)"
   ]
  },
  {
   "cell_type": "code",
   "execution_count": 31,
   "metadata": {},
   "outputs": [
    {
     "data": {
      "text/plain": [
       "(20.0, 117)"
      ]
     },
     "execution_count": 31,
     "metadata": {},
     "output_type": "execute_result"
    }
   ],
   "source": [
    "N/P, h"
   ]
  },
  {
   "cell_type": "code",
   "execution_count": 32,
   "metadata": {},
   "outputs": [],
   "source": [
    "init_fn, apply_fn, kernel_fn_inf = stax.serial(\n",
    "    *[stax.Dense(h), stax.Erf()]*L,\n",
    "    stax.Dense(1)\n",
    ")"
   ]
  },
  {
   "cell_type": "code",
   "execution_count": 33,
   "metadata": {},
   "outputs": [],
   "source": [
    "trainkey, testkey, kernelkey = random.split(random.PRNGKey(1), num=3)\n",
    "x_train = random.normal(trainkey, (P, d))\n",
    "x_test = random.normal(testkey, (P, d))\n",
    "\n",
    "# project to hyper-sphere of radius sqrt(d)\n",
    "x_train = np.sqrt(d) * x_train / np.linalg.norm(x_train, axis = 1, keepdims=True)\n",
    "x_test = np.sqrt(d) * x_test / np.linalg.norm(x_test, axis = 1, keepdims=True)"
   ]
  },
  {
   "cell_type": "code",
   "execution_count": 34,
   "metadata": {},
   "outputs": [],
   "source": [
    "_, init_params = init_fn(kernelkey, x_train.shape)"
   ]
  },
  {
   "cell_type": "code",
   "execution_count": 35,
   "metadata": {},
   "outputs": [
    {
     "data": {
      "text/plain": [
       "(20000, 19891)"
      ]
     },
     "execution_count": 35,
     "metadata": {},
     "output_type": "execute_result"
    }
   ],
   "source": [
    "N_actual = sum(sum([[params.size for params in layer] for layer in init_params], []))\n",
    "N, N_actual"
   ]
  },
  {
   "cell_type": "code",
   "execution_count": 36,
   "metadata": {},
   "outputs": [],
   "source": [
    "kernel_fn = nt.empirical_kernel_fn(apply_fn)"
   ]
  },
  {
   "cell_type": "code",
   "execution_count": 37,
   "metadata": {},
   "outputs": [],
   "source": [
    "gram_ntk = kernel_fn(x_train, x_train, init_params, get='ntk')"
   ]
  },
  {
   "cell_type": "code",
   "execution_count": 38,
   "metadata": {},
   "outputs": [],
   "source": [
    "eigs = np.linalg.eigvalsh(gram_ntk[:,:, 0, 0])"
   ]
  },
  {
   "cell_type": "code",
   "execution_count": 39,
   "metadata": {},
   "outputs": [
    {
     "data": {
      "image/png": "[encoded data removed]",
      "text/plain": [
       "<Figure size 432x288 with 1 Axes>"
      ]
     },
     "metadata": {
      "image/png": {
       "height": 252,
       "width": 375
      },
      "needs_background": "light"
     },
     "output_type": "display_data"
    },
    {
     "data": {
      "image/png": "[encoded data removed]",
      "text/plain": [
       "<Figure size 432x288 with 1 Axes>"
      ]
     },
     "metadata": {
      "image/png": {
       "height": 248,
       "width": 369
      },
      "needs_background": "light"
     },
     "output_type": "display_data"
    }
   ],
   "source": [
    "plt.figure()\n",
    "hist = plt.hist(eigs[:-4], 100)\n",
    "plt.axvline(0, color='k', linestyle=':')\n",
    "plt.ylim(0,100)\n",
    "\n",
    "plt.figure()\n",
    "loghist = plt.hist(np.log(eigs), 100)"
   ]
  },
  {
   "cell_type": "markdown",
   "metadata": {},
   "source": [
    "# Do linearized neural networks exhibit jamming?"
   ]
  },
  {
   "cell_type": "code",
   "execution_count": 40,
   "metadata": {},
   "outputs": [],
   "source": [
    "force = lambda f, y: 1/2 - f*y\n",
    "loss = lambda fx, y_hat: np.mean(1/2 * np.maximum(0, force(fx, y_hat))**2)"
   ]
  },
  {
   "cell_type": "code",
   "execution_count": 41,
   "metadata": {},
   "outputs": [],
   "source": [
    "y_train = random.bernoulli(trainkey, p=.5, shape=(P,1))*2 - 1"
   ]
  },
  {
   "cell_type": "code",
   "execution_count": 42,
   "metadata": {},
   "outputs": [],
   "source": [
    "g_dd = kernel_fn(x_train, x_train, init_params, get='ntk')"
   ]
  },
  {
   "cell_type": "code",
   "execution_count": 43,
   "metadata": {},
   "outputs": [],
   "source": [
    "predict_fn = nt.predict.gradient_descent(g_dd, y_train, loss)\n",
    "# predict_fn = nt.predict.gradient_descent_mse(g_dd, y_train)"
   ]
  },
  {
   "cell_type": "code",
   "execution_count": 44,
   "metadata": {},
   "outputs": [
    {
     "data": {
      "text/plain": [
       "DeviceArray(0.0001249, dtype=float32)"
      ]
     },
     "execution_count": 44,
     "metadata": {},
     "output_type": "execute_result"
    }
   ],
   "source": [
    "train_time = 5e4\n",
    "\n",
    "fx_train_initial = apply_fn(init_params, x_train)\n",
    "\n",
    "fx_train_final = predict_fn(\n",
    "    train_time, \n",
    "    fx_train_initial\n",
    ")\n",
    "loss_val = loss(fx_train_final, y_train)\n",
    "loss_val"
   ]
  },
  {
   "cell_type": "code",
   "execution_count": 45,
   "metadata": {},
   "outputs": [
    {
     "data": {
      "text/plain": [
       "<matplotlib.collections.PathCollection at 0x7f811e600490>"
      ]
     },
     "execution_count": 45,
     "metadata": {},
     "output_type": "execute_result"
    },
    {
     "data": {
      "image/png": "[encoded data removed]",
      "text/plain": [
       "<Figure size 432x288 with 1 Axes>"
      ]
     },
     "metadata": {
      "image/png": {
       "height": 248,
       "width": 380
      },
      "needs_background": "light"
     },
     "output_type": "display_data"
    }
   ],
   "source": [
    "plt.scatter(y_train, fx_train_final)"
   ]
  },
  {
   "cell_type": "code",
   "execution_count": 46,
   "metadata": {},
   "outputs": [
    {
     "data": {
      "image/png": "[encoded data removed]",
      "text/plain": [
       "<Figure size 432x288 with 1 Axes>"
      ]
     },
     "metadata": {
      "image/png": {
       "height": 248,
       "width": 375
      },
      "needs_background": "light"
     },
     "output_type": "display_data"
    }
   ],
   "source": [
    "forces = np.ravel(force(fx_train_final, y_train))\n",
    "\n",
    "hist = plt.hist(forces, 50)"
   ]
  },
  {
   "cell_type": "code",
   "execution_count": 47,
   "metadata": {},
   "outputs": [
    {
     "data": {
      "text/plain": [
       "700"
      ]
     },
     "execution_count": 47,
     "metadata": {},
     "output_type": "execute_result"
    }
   ],
   "source": [
    "N_del = sum(forces > 0)\n",
    "N_del"
   ]
  },
  {
   "cell_type": "code",
   "execution_count": 48,
   "metadata": {},
   "outputs": [
    {
     "data": {
      "text/plain": [
       "(700, 300)"
      ]
     },
     "execution_count": 48,
     "metadata": {},
     "output_type": "execute_result"
    }
   ],
   "source": [
    "overlaps = forces[forces > 0]\n",
    "gaps = forces[forces <= 0]\n",
    "\n",
    "len(overlaps), len(gaps)"
   ]
  },
  {
   "cell_type": "markdown",
   "metadata": {},
   "source": [
    "## Training loop"
   ]
  },
  {
   "cell_type": "code",
   "execution_count": 49,
   "metadata": {},
   "outputs": [],
   "source": [
    "from tqdm import notebook as tqdm"
   ]
  },
  {
   "cell_type": "code",
   "execution_count": 50,
   "metadata": {},
   "outputs": [
    {
     "data": {
      "application/vnd.jupyter.widget-view+json": {
       "model_id": "44a406eb7cca4f0793f35f046827d3bb",
       "version_major": 2,
       "version_minor": 0
      },
      "text/plain": [
       "HBox(children=(FloatProgress(value=0.0, max=117.0), HTML(value='')))"
      ]
     },
     "metadata": {},
     "output_type": "display_data"
    },
    {
     "name": "stdout",
     "output_type": "stream",
     "text": [
      "\n"
     ]
    }
   ],
   "source": [
    "losses = []\n",
    "N_dels = []\n",
    "overlaps = []\n",
    "gaps = []\n",
    "Ns = []\n",
    "\n",
    "for hi in tqdm.trange(h, 0, -1):\n",
    "    Ni = find_N(hi, L, d)\n",
    "    Ns.append(Ni)\n",
    "\n",
    "    init_fn, apply_fn, kernel_fn_inf = stax.serial(\n",
    "        *[stax.Dense(hi), stax.Erf()]*L,\n",
    "        stax.Dense(1)\n",
    "    )\n",
    "    _, init_params = init_fn(kernelkey, x_train.shape)\n",
    "\n",
    "    kernel_fn = nt.empirical_kernel_fn(apply_fn)\n",
    "\n",
    "    g_dd = kernel_fn(x_train, x_train, init_params, get='ntk')\n",
    "\n",
    "    predict_fn = nt.predict.gradient_descent(g_dd, y_train, loss)\n",
    "#     predict_fn = nt.predict.gradient_descent_mse(g_dd, y_train)\n",
    "\n",
    "\n",
    "\n",
    "    fx_train_initial = apply_fn(init_params, x_train)\n",
    "    fx_train_final = predict_fn(\n",
    "        train_time, \n",
    "        fx_train_initial\n",
    "    )\n",
    "\n",
    "    loss_val = loss(fx_train_final, y_train)\n",
    "    forces = np.ravel(force(fx_train_final, y_train))\n",
    "\n",
    "    N_del = sum(forces > 0)\n",
    "    overlap = forces[forces > 0]\n",
    "    gap = forces[forces <= 0]\n",
    "    \n",
    "    losses.append(loss_val)\n",
    "    N_dels.append(N_del)\n",
    "    overlaps.append(overlap)\n",
    "    gaps.append(gap)"
   ]
  },
  {
   "cell_type": "code",
   "execution_count": 77,
   "metadata": {},
   "outputs": [
    {
     "data": {
      "text/plain": [
       "(array([  5.,   2.,  19.,  44.,  68., 494., 342.,  16.,   4.,   6.]),\n",
       " array([-0.19270694, -0.07509209,  0.04252277,  0.16013762,  0.27775246,\n",
       "         0.39536732,  0.5129822 ,  0.63059705,  0.74821186,  0.8658267 ,\n",
       "         0.9834416 ], dtype=float32),\n",
       " <a list of 10 Patch objects>)"
      ]
     },
     "execution_count": 77,
     "metadata": {},
     "output_type": "execute_result"
    },
    {
     "data": {
      "image/png": "[encoded data removed]",
      "text/plain": [
       "<Figure size 432x288 with 1 Axes>"
      ]
     },
     "metadata": {
      "image/png": {
       "height": 248,
       "width": 375
      },
      "needs_background": "light"
     },
     "output_type": "display_data"
    }
   ],
   "source": [
    "plt.hist(forces)"
   ]
  },
  {
   "cell_type": "code",
   "execution_count": 51,
   "metadata": {},
   "outputs": [],
   "source": [
    "losses = np.array(losses)\n",
    "N_dels = np.array(N_dels)\n",
    "Ns = np.array(Ns)\n",
    "overlaps = [np.array(overlap) for overlap in overlaps]\n",
    "gaps = [np.array(gap) for gap in gaps]"
   ]
  },
  {
   "cell_type": "code",
   "execution_count": 52,
   "metadata": {},
   "outputs": [
    {
     "data": {
      "text/plain": [
       "DeviceArray([ 700,  664,  715,  669,  701,  708,  684,  704,  693,  715,\n",
       "              661,  688,  679,  680,  671,  681,  680,  675,  656,  663,\n",
       "              701,  695,  709,  693,  707,  674,  700,  706,  713,  726,\n",
       "              709,  667,  704,  679,  687,  694,  715,  710,  712,  663,\n",
       "              677,  700,  716,  726,  736,  705,  707,  749,  689,  699,\n",
       "              718,  684,  712,  718,  752,  754,  779,  745,  754,  736,\n",
       "              711,  758,  753,  740,  768,  761,  783,  778,  765,  763,\n",
       "              775,  785,  802,  805,  829,  835,  808,  878,  835,  834,\n",
       "              821,  880,  869,  811,  850,  868,  889,  855,  912,  887,\n",
       "              881,  879,  875,  883,  913,  892,  905,  892,  904,  865,\n",
       "              887,  934,  924,  937,  889,  938,  945,  970,  986,  983,\n",
       "              971,  994,  988,  988, 1000, 1000,  993], dtype=int32)"
      ]
     },
     "execution_count": 52,
     "metadata": {},
     "output_type": "execute_result"
    }
   ],
   "source": [
    "N_dels"
   ]
  },
  {
   "cell_type": "code",
   "execution_count": 53,
   "metadata": {},
   "outputs": [
    {
     "data": {
      "text/plain": [
       "DeviceArray([19891, 19605, 19321, 19039, 18759, 18481, 18205, 17931,\n",
       "             17659, 17389, 17121, 16855, 16591, 16329, 16069, 15811,\n",
       "             15555, 15301, 15049, 14799, 14551, 14305, 14061, 13819,\n",
       "             13579, 13341, 13105, 12871, 12639, 12409, 12181, 11955,\n",
       "             11731, 11509, 11289, 11071, 10855, 10641, 10429, 10219,\n",
       "             10011,  9805,  9601,  9399,  9199,  9001,  8805,  8611,\n",
       "              8419,  8229,  8041,  7855,  7671,  7489,  7309,  7131,\n",
       "              6955,  6781,  6609,  6439,  6271,  6105,  5941,  5779,\n",
       "              5619,  5461,  5305,  5151,  4999,  4849,  4701,  4555,\n",
       "              4411,  4269,  4129,  3991,  3855,  3721,  3589,  3459,\n",
       "              3331,  3205,  3081,  2959,  2839,  2721,  2605,  2491,\n",
       "              2379,  2269,  2161,  2055,  1951,  1849,  1749,  1651,\n",
       "              1555,  1461,  1369,  1279,  1191,  1105,  1021,   939,\n",
       "               859,   781,   705,   631,   559,   489,   421,   355,\n",
       "               291,   229,   169,   111,    55], dtype=int32)"
      ]
     },
     "execution_count": 53,
     "metadata": {},
     "output_type": "execute_result"
    }
   ],
   "source": [
    "Ns"
   ]
  },
  {
   "cell_type": "code",
   "execution_count": 74,
   "metadata": {},
   "outputs": [
    {
     "data": {
      "text/plain": [
       "Text(0, 0.5, '$N_\\\\Delta/N$')"
      ]
     },
     "execution_count": 74,
     "metadata": {},
     "output_type": "execute_result"
    },
    {
     "data": {
      "image/png": "[encoded data removed]",
      "text/plain": [
       "<Figure size 432x288 with 1 Axes>"
      ]
     },
     "metadata": {
      "image/png": {
       "height": 262,
       "width": 386
      },
      "needs_background": "light"
     },
     "output_type": "display_data"
    }
   ],
   "source": [
    "plt.scatter((P/Ns)[:-10], (N_dels/Ns)[:-10])\n",
    "plt.xlabel('$P/N$')\n",
    "plt.ylabel('$N_\\Delta/N$')"
   ]
  },
  {
   "cell_type": "code",
   "execution_count": 75,
   "metadata": {},
   "outputs": [
    {
     "data": {
      "text/plain": [
       "(0, 1)"
      ]
     },
     "execution_count": 75,
     "metadata": {},
     "output_type": "execute_result"
    },
    {
     "data": {
      "image/png": "[encoded data removed]",
      "text/plain": [
       "<Figure size 432x288 with 1 Axes>"
      ]
     },
     "metadata": {
      "image/png": {
       "height": 265,
       "width": 398
      },
      "needs_background": "light"
     },
     "output_type": "display_data"
    }
   ],
   "source": [
    "plt.scatter((losses), (N_dels/Ns))\n",
    "plt.xlabel('$\\mathcal{L}$')\n",
    "plt.ylabel('$N_\\Delta/N$')\n",
    "plt.xlim(0,.06)\n",
    "plt.ylim(0,1)"
   ]
  },
  {
   "cell_type": "code",
   "execution_count": 76,
   "metadata": {},
   "outputs": [
    {
     "data": {
      "text/plain": [
       "<matplotlib.legend.Legend at 0x7f81a79b0c90>"
      ]
     },
     "execution_count": 76,
     "metadata": {},
     "output_type": "execute_result"
    },
    {
     "data": {
      "image/png": "[encoded data removed]",
      "text/plain": [
       "<Figure size 432x288 with 1 Axes>"
      ]
     },
     "metadata": {
      "image/png": {
       "height": 261,
       "width": 400
      },
      "needs_background": "light"
     },
     "output_type": "display_data"
    }
   ],
   "source": [
    "plt.scatter(P/Ns, losses)\n",
    "plt.xlabel('P/N')\n",
    "plt.ylabel('$\\mathcal{L}$')\n",
    "plt.axvline(1, color='k', linestyle =':', label = 'P/N = 1')\n",
    "plt.legend()"
   ]
  },
  {
   "cell_type": "code",
   "execution_count": 58,
   "metadata": {},
   "outputs": [
    {
     "data": {
      "text/plain": [
       "Text(0, 0.5, '$\\\\Delta^+/N$')"
      ]
     },
     "execution_count": 58,
     "metadata": {},
     "output_type": "execute_result"
    },
    {
     "data": {
      "image/png": "[encoded data removed]",
      "text/plain": [
       "<Figure size 432x288 with 1 Axes>"
      ]
     },
     "metadata": {
      "image/png": {
       "height": 262,
       "width": 394
      },
      "needs_background": "light"
     },
     "output_type": "display_data"
    }
   ],
   "source": [
    "plt.scatter(P/Ns, np.array([len(o) for o in overlaps])/Ns)\n",
    "plt.xlabel('$P/N$')\n",
    "plt.ylabel('$\\Delta^+/N$')"
   ]
  },
  {
   "cell_type": "code",
   "execution_count": 59,
   "metadata": {},
   "outputs": [
    {
     "data": {
      "text/plain": [
       "Text(0, 0.5, '$\\\\Delta^-/N$')"
      ]
     },
     "execution_count": 59,
     "metadata": {},
     "output_type": "execute_result"
    },
    {
     "data": {
      "image/png": "[encoded data removed]",
      "text/plain": [
       "<Figure size 432x288 with 1 Axes>"
      ]
     },
     "metadata": {
      "image/png": {
       "height": 262,
       "width": 400
      },
      "needs_background": "light"
     },
     "output_type": "display_data"
    }
   ],
   "source": [
    "plt.scatter(P/Ns, np.array([len(g) for g in gaps])/Ns)\n",
    "plt.xlabel('$P/N$')\n",
    "plt.ylabel('$\\Delta^-/N$')"
   ]
  },
  {
   "cell_type": "markdown",
   "metadata": {},
   "source": [
    "Hessian?"
   ]
  },
  {
   "cell_type": "code",
   "execution_count": 362,
   "metadata": {},
   "outputs": [],
   "source": [
    "from jax import jacfwd"
   ]
  },
  {
   "cell_type": "code",
   "execution_count": 405,
   "metadata": {},
   "outputs": [],
   "source": [
    "H = jacfwd(apply_fn)(init_params, x_train)"
   ]
  },
  {
   "cell_type": "code",
   "execution_count": 406,
   "metadata": {},
   "outputs": [
    {
     "data": {
      "text/plain": [
       "[[(1000, 1, 50, 77), (1000, 1, 77)],\n",
       " [],\n",
       " [(1000, 1, 77, 77), (1000, 1, 77)],\n",
       " [],\n",
       " [(1000, 1, 77, 1), (1000, 1, 1)]]"
      ]
     },
     "execution_count": 406,
     "metadata": {},
     "output_type": "execute_result"
    }
   ],
   "source": [
    "[[inner.shape for inner in outer] for outer in H]"
   ]
  },
  {
   "cell_type": "code",
   "execution_count": 407,
   "metadata": {},
   "outputs": [
    {
     "data": {
      "text/plain": [
       "[[(50, 77), (77,)], [], [(77, 77), (77,)], [], [(77, 1), (1,)]]"
      ]
     },
     "execution_count": 407,
     "metadata": {},
     "output_type": "execute_result"
    }
   ],
   "source": [
    "[[inner.shape for inner in outer] for outer in init_params]"
   ]
  },
  {
   "cell_type": "code",
   "execution_count": 395,
   "metadata": {},
   "outputs": [],
   "source": [
    "expansion = nt.taylor_expand(apply_fn, init_params, 2)"
   ]
  },
  {
   "cell_type": "code",
   "execution_count": 396,
   "metadata": {},
   "outputs": [
    {
     "data": {
      "text/plain": [
       "DeviceArray([[-0.3941389 ],\n",
       "             [ 0.16600257],\n",
       "             [ 0.40947476],\n",
       "             [-0.4098967 ],\n",
       "             [-0.40962464],\n",
       "             [-0.40989193],\n",
       "             [ 0.40443587],\n",
       "             [ 0.40991065],\n",
       "             [ 0.4098583 ],\n",
       "             [ 0.40941676],\n",
       "             [ 0.40991047],\n",
       "             [-0.4098075 ],\n",
       "             [ 0.40979543],\n",
       "             [-0.06310936],\n",
       "             [ 0.40956348],\n",
       "             [-0.38789985],\n",
       "             [-0.00233371],\n",
       "             [-0.2118917 ],\n",
       "             [ 0.38547394],\n",
       "             [-0.2335858 ],\n",
       "             [ 0.4043545 ],\n",
       "             [-0.4033173 ],\n",
       "             [ 0.35477751],\n",
       "             [-0.33867076],\n",
       "             [-0.40937573],\n",
       "             [ 0.40051457],\n",
       "             [ 0.4098166 ],\n",
       "             [ 0.32164308],\n",
       "             [ 0.39276877],\n",
       "             [ 0.34132722],\n",
       "             [-0.4098441 ],\n",
       "             [-0.11257735],\n",
       "             [ 0.40953988],\n",
       "             [ 0.40097496],\n",
       "             [ 0.40973058],\n",
       "             [-0.3990428 ],\n",
       "             [ 0.40769488],\n",
       "             [ 0.4094031 ],\n",
       "             [-0.4089262 ],\n",
       "             [ 0.39049685],\n",
       "             [-0.40990376],\n",
       "             [ 0.364434  ],\n",
       "             [ 0.40935996],\n",
       "             [-0.33207914],\n",
       "             [ 0.40796116],\n",
       "             [-0.02668803],\n",
       "             [-0.40991065],\n",
       "             [-0.28495997],\n",
       "             [-0.40989622],\n",
       "             [ 0.09378526],\n",
       "             [-0.4009125 ],\n",
       "             [-0.4059712 ],\n",
       "             [ 0.182054  ],\n",
       "             [ 0.05557381],\n",
       "             [-0.39532173],\n",
       "             [ 0.39871693],\n",
       "             [ 0.40946755],\n",
       "             [-0.4005893 ],\n",
       "             [ 0.36217734],\n",
       "             [ 0.4099085 ],\n",
       "             [ 0.27419272],\n",
       "             [ 0.409206  ],\n",
       "             [ 0.40897182],\n",
       "             [ 0.22421496],\n",
       "             [ 0.28646848],\n",
       "             [ 0.40807992],\n",
       "             [-0.40987024],\n",
       "             [ 0.40958875],\n",
       "             [ 0.40959072],\n",
       "             [-0.08224563],\n",
       "             [-0.09388349],\n",
       "             [-0.33888707],\n",
       "             [-0.40799665],\n",
       "             [-0.0342411 ],\n",
       "             [ 0.40305427],\n",
       "             [-0.13162118],\n",
       "             [-0.4098645 ],\n",
       "             [ 0.3350144 ],\n",
       "             [-0.07224931],\n",
       "             [ 0.19320461],\n",
       "             [ 0.40090016],\n",
       "             [-0.40988576],\n",
       "             [-0.1443433 ],\n",
       "             [ 0.40979972],\n",
       "             [ 0.40929595],\n",
       "             [-0.40985397],\n",
       "             [ 0.34525895],\n",
       "             [ 0.04372443],\n",
       "             [-0.4023028 ],\n",
       "             [ 0.40952975],\n",
       "             [-0.40794247],\n",
       "             [-0.19614029],\n",
       "             [-0.4097954 ],\n",
       "             [ 0.3820179 ],\n",
       "             [ 0.33006623],\n",
       "             [ 0.40985462],\n",
       "             [-0.40937465],\n",
       "             [ 0.4098231 ],\n",
       "             [-0.40885815],\n",
       "             [-0.22080499],\n",
       "             [ 0.40990683],\n",
       "             [-0.32527414],\n",
       "             [-0.40975738],\n",
       "             [ 0.379318  ],\n",
       "             [-0.4088705 ],\n",
       "             [ 0.3610398 ],\n",
       "             [ 0.40920046],\n",
       "             [-0.37050977],\n",
       "             [-0.37297693],\n",
       "             [ 0.04380608],\n",
       "             [-0.39847377],\n",
       "             [ 0.4098953 ],\n",
       "             [ 0.39982876],\n",
       "             [-0.40983358],\n",
       "             [ 0.40990886],\n",
       "             [ 0.4057326 ],\n",
       "             [ 0.40990642],\n",
       "             [ 0.40941763],\n",
       "             [ 0.3886454 ],\n",
       "             [-0.3924021 ],\n",
       "             [-0.4047533 ],\n",
       "             [ 0.40967032],\n",
       "             [ 0.40944457],\n",
       "             [-0.40579894],\n",
       "             [-0.40712944],\n",
       "             [ 0.3415963 ],\n",
       "             [ 0.11494539],\n",
       "             [ 0.39304492],\n",
       "             [ 0.00688831],\n",
       "             [ 0.3232884 ],\n",
       "             [-0.40615645],\n",
       "             [-0.40965635],\n",
       "             [-0.38026813],\n",
       "             [ 0.4098514 ],\n",
       "             [ 0.40983614],\n",
       "             [ 0.20002863],\n",
       "             [-0.40969086],\n",
       "             [-0.40774018],\n",
       "             [-0.40858108],\n",
       "             [-0.40349093],\n",
       "             [-0.40990856],\n",
       "             [ 0.37517965],\n",
       "             [ 0.12897336],\n",
       "             [ 0.26190284],\n",
       "             [-0.4024916 ],\n",
       "             [ 0.30691257],\n",
       "             [-0.35052064],\n",
       "             [ 0.2519713 ],\n",
       "             [ 0.40983298],\n",
       "             [ 0.40965617],\n",
       "             [ 0.20036785],\n",
       "             [-0.05222455],\n",
       "             [-0.40988073],\n",
       "             [-0.30216637],\n",
       "             [ 0.40936747],\n",
       "             [ 0.19613643],\n",
       "             [ 0.28024983],\n",
       "             [ 0.4084228 ],\n",
       "             [ 0.40983707],\n",
       "             [ 0.40908566],\n",
       "             [ 0.40564847],\n",
       "             [-0.09139451],\n",
       "             [-0.40985805],\n",
       "             [ 0.40984797],\n",
       "             [-0.40941504],\n",
       "             [ 0.39691046],\n",
       "             [-0.25981456],\n",
       "             [ 0.40916875],\n",
       "             [-0.33783925],\n",
       "             [-0.4016101 ],\n",
       "             [ 0.04687868],\n",
       "             [-0.40975043],\n",
       "             [-0.4096423 ],\n",
       "             [ 0.40987018],\n",
       "             [-0.4099078 ],\n",
       "             [ 0.40989497],\n",
       "             [ 0.40858102],\n",
       "             [-0.22681873],\n",
       "             [ 0.19018455],\n",
       "             [-0.37901843],\n",
       "             [ 0.3695565 ],\n",
       "             [ 0.32985193],\n",
       "             [-0.10446402],\n",
       "             [ 0.06047735],\n",
       "             [-0.4093269 ],\n",
       "             [ 0.4084592 ],\n",
       "             [-0.36107704],\n",
       "             [ 0.39981672],\n",
       "             [ 0.2773062 ],\n",
       "             [ 0.40906817],\n",
       "             [ 0.3572082 ],\n",
       "             [ 0.3841389 ],\n",
       "             [ 0.40505558],\n",
       "             [ 0.40899915],\n",
       "             [ 0.40976408],\n",
       "             [-0.00544333],\n",
       "             [-0.18182658],\n",
       "             [ 0.05393993],\n",
       "             [ 0.3734913 ],\n",
       "             [-0.28103638],\n",
       "             [-0.4081601 ],\n",
       "             [-0.40650576],\n",
       "             [-0.40981236],\n",
       "             [-0.40989336],\n",
       "             [-0.4060867 ],\n",
       "             [ 0.39632982],\n",
       "             [ 0.39209047],\n",
       "             [-0.40925595],\n",
       "             [-0.40991065],\n",
       "             [ 0.38890097],\n",
       "             [-0.40968084],\n",
       "             [ 0.21079722],\n",
       "             [-0.2590838 ],\n",
       "             [ 0.39934742],\n",
       "             [-0.02134126],\n",
       "             [-0.40980855],\n",
       "             [-0.40972465],\n",
       "             [ 0.4097942 ],\n",
       "             [ 0.11090906],\n",
       "             [-0.40467197],\n",
       "             [ 0.39174372],\n",
       "             [ 0.13674435],\n",
       "             [-0.40906265],\n",
       "             [ 0.40784374],\n",
       "             [ 0.4092297 ],\n",
       "             [-0.3119019 ],\n",
       "             [-0.4069276 ],\n",
       "             [-0.40981975],\n",
       "             [ 0.40925395],\n",
       "             [-0.4073423 ],\n",
       "             [-0.39803964],\n",
       "             [ 0.40984046],\n",
       "             [ 0.40780666],\n",
       "             [-0.40947637],\n",
       "             [-0.29825225],\n",
       "             [-0.38693428],\n",
       "             [-0.1774705 ],\n",
       "             [ 0.2759262 ],\n",
       "             [ 0.40598118],\n",
       "             [-0.3463584 ],\n",
       "             [-0.33639038],\n",
       "             [ 0.40577817],\n",
       "             [-0.40991047],\n",
       "             [-0.4093365 ],\n",
       "             [ 0.40939966],\n",
       "             [-0.40758967],\n",
       "             [-0.028501  ],\n",
       "             [ 0.21232937],\n",
       "             [ 0.40972185],\n",
       "             [ 0.40732032],\n",
       "             [-0.40029395],\n",
       "             [-0.37720764],\n",
       "             [ 0.39287752],\n",
       "             [ 0.17433596],\n",
       "             [ 0.39472735],\n",
       "             [ 0.4028307 ],\n",
       "             [ 0.40971696],\n",
       "             [ 0.40940166],\n",
       "             [-0.4080171 ],\n",
       "             [ 0.39787653],\n",
       "             [ 0.40971303],\n",
       "             [-0.40193203],\n",
       "             [ 0.3982084 ],\n",
       "             [ 0.40371883],\n",
       "             [-0.40669483],\n",
       "             [-0.22837575],\n",
       "             [-0.37791675],\n",
       "             [-0.35384768],\n",
       "             [-0.4068728 ],\n",
       "             [-0.36392158],\n",
       "             [ 0.19667938],\n",
       "             [-0.39585853],\n",
       "             [ 0.39873037],\n",
       "             [-0.40987268],\n",
       "             [-0.4096985 ],\n",
       "             [-0.4050592 ],\n",
       "             [ 0.22396852],\n",
       "             [ 0.40610936],\n",
       "             [-0.35263643],\n",
       "             [-0.40880486],\n",
       "             [ 0.4079199 ],\n",
       "             [-0.40988293],\n",
       "             [ 0.37759036],\n",
       "             [ 0.40717915],\n",
       "             [ 0.40552345],\n",
       "             [-0.37999636],\n",
       "             [-0.40990457],\n",
       "             [ 0.34749633],\n",
       "             [-0.23066793],\n",
       "             [ 0.40952578],\n",
       "             [ 0.40921846],\n",
       "             [ 0.40964827],\n",
       "             [ 0.37874058],\n",
       "             [ 0.404903  ],\n",
       "             [ 0.40465882],\n",
       "             [-0.16216926],\n",
       "             [-0.39480454],\n",
       "             [-0.40847364],\n",
       "             [ 0.4098146 ],\n",
       "             [-0.24751438],\n",
       "             [-0.40886068],\n",
       "             [ 0.4099098 ],\n",
       "             [-0.40791818],\n",
       "             [-0.40595174],\n",
       "             [-0.4096092 ],\n",
       "             [ 0.32973176],\n",
       "             [ 0.08035084],\n",
       "             [ 0.40923914],\n",
       "             [ 0.3870579 ],\n",
       "             [ 0.40989912],\n",
       "             [ 0.40841836],\n",
       "             [ 0.40374613],\n",
       "             [ 0.4098533 ],\n",
       "             [ 0.40990588],\n",
       "             [ 0.40990788],\n",
       "             [ 0.21029857],\n",
       "             [-0.40742096],\n",
       "             [ 0.40969276],\n",
       "             [ 0.4099066 ],\n",
       "             [ 0.35492852],\n",
       "             [ 0.22516872],\n",
       "             [ 0.40963584],\n",
       "             [ 0.406342  ],\n",
       "             [ 0.0781201 ],\n",
       "             [-0.23417526],\n",
       "             [ 0.4036285 ],\n",
       "             [ 0.39659363],\n",
       "             [ 0.40981147],\n",
       "             [-0.4037942 ],\n",
       "             [-0.40957573],\n",
       "             [-0.39880493],\n",
       "             [ 0.03000747],\n",
       "             [ 0.40986475],\n",
       "             [-0.2982359 ],\n",
       "             [-0.12793876],\n",
       "             [ 0.4062546 ],\n",
       "             [ 0.39891097],\n",
       "             [ 0.21679944],\n",
       "             [-0.17626286],\n",
       "             [ 0.21942648],\n",
       "             [-0.40986007],\n",
       "             [-0.40990996],\n",
       "             [-0.39597946],\n",
       "             [-0.40990016],\n",
       "             [ 0.3926583 ],\n",
       "             [ 0.38107613],\n",
       "             [-0.40602136],\n",
       "             [-0.4077295 ],\n",
       "             [ 0.37900567],\n",
       "             [-0.28963497],\n",
       "             [ 0.40929234],\n",
       "             [-0.1307857 ],\n",
       "             [ 0.3434137 ],\n",
       "             [-0.4098683 ],\n",
       "             [ 0.05853099],\n",
       "             [ 0.4094257 ],\n",
       "             [-0.4098606 ],\n",
       "             [ 0.40990546],\n",
       "             [ 0.40378532],\n",
       "             [-0.29177785],\n",
       "             [ 0.40658113],\n",
       "             [ 0.409633  ],\n",
       "             [-0.3261054 ],\n",
       "             [-0.40956092],\n",
       "             [ 0.38072723],\n",
       "             [-0.3647498 ],\n",
       "             [ 0.37989125],\n",
       "             [ 0.40729478],\n",
       "             [ 0.40342236],\n",
       "             [ 0.4094106 ],\n",
       "             [-0.40963644],\n",
       "             [-0.40125483],\n",
       "             [-0.40989923],\n",
       "             [ 0.36441433],\n",
       "             [ 0.40868104],\n",
       "             [ 0.02189763],\n",
       "             [ 0.40787756],\n",
       "             [ 0.05564256],\n",
       "             [-0.40974405],\n",
       "             [ 0.39272797],\n",
       "             [-0.38689116],\n",
       "             [ 0.40990978],\n",
       "             [-0.24785057],\n",
       "             [ 0.22606546],\n",
       "             [ 0.40989336],\n",
       "             [-0.37492797],\n",
       "             [ 0.4039266 ],\n",
       "             [-0.26110387],\n",
       "             [-0.4098511 ],\n",
       "             [ 0.40987056],\n",
       "             [ 0.40990537],\n",
       "             [-0.39443517],\n",
       "             [-0.3632034 ],\n",
       "             [-0.40421346],\n",
       "             [-0.40852293],\n",
       "             [-0.40905318],\n",
       "             [-0.4096789 ],\n",
       "             [ 0.40991065],\n",
       "             [-0.40265474],\n",
       "             [ 0.40975368],\n",
       "             [-0.36701444],\n",
       "             [-0.32488188],\n",
       "             [ 0.11163379],\n",
       "             [ 0.04656438],\n",
       "             [-0.40982914],\n",
       "             [ 0.40259868],\n",
       "             [-0.40921605],\n",
       "             [ 0.40780082],\n",
       "             [-0.19789048],\n",
       "             [-0.40977627],\n",
       "             [ 0.40946263],\n",
       "             [-0.32979652],\n",
       "             [ 0.40783933],\n",
       "             [-0.40979457],\n",
       "             [-0.40820962],\n",
       "             [-0.40570134],\n",
       "             [ 0.34865355],\n",
       "             [-0.4008669 ],\n",
       "             [ 0.0495759 ],\n",
       "             [ 0.40740615],\n",
       "             [ 0.40981773],\n",
       "             [ 0.06806297],\n",
       "             [-0.26129645],\n",
       "             [-0.40743244],\n",
       "             [ 0.34353673],\n",
       "             [-0.40989733],\n",
       "             [-0.1191721 ],\n",
       "             [ 0.12419124],\n",
       "             [ 0.31671563],\n",
       "             [-0.39462972],\n",
       "             [-0.40990752],\n",
       "             [ 0.3192382 ],\n",
       "             [ 0.40790597],\n",
       "             [-0.40969923],\n",
       "             [ 0.4098029 ],\n",
       "             [-0.4068052 ],\n",
       "             [-0.35447764],\n",
       "             [ 0.03245259],\n",
       "             [-0.40812552],\n",
       "             [ 0.40583256],\n",
       "             [ 0.27327755],\n",
       "             [-0.4038752 ],\n",
       "             [-0.3951895 ],\n",
       "             [ 0.39002633],\n",
       "             [ 0.28143948],\n",
       "             [-0.40960094],\n",
       "             [-0.3174178 ],\n",
       "             [-0.39387026],\n",
       "             [ 0.40817648],\n",
       "             [-0.38680744],\n",
       "             [-0.40960452],\n",
       "             [-0.11590054],\n",
       "             [ 0.39636618],\n",
       "             [ 0.25181893],\n",
       "             [ 0.40905687],\n",
       "             [-0.21227776],\n",
       "             [ 0.40844834],\n",
       "             [-0.40988493],\n",
       "             [ 0.22769889],\n",
       "             [-0.40984952],\n",
       "             [-0.10572228],\n",
       "             [ 0.33581683],\n",
       "             [-0.3157668 ],\n",
       "             [ 0.40977478],\n",
       "             [-0.0131644 ],\n",
       "             [-0.39281914],\n",
       "             [-0.40977237],\n",
       "             [ 0.40956837],\n",
       "             [-0.21876442],\n",
       "             [-0.40604815],\n",
       "             [-0.40693134],\n",
       "             [-0.28013718],\n",
       "             [ 0.40929618],\n",
       "             [ 0.40986744],\n",
       "             [-0.40990186],\n",
       "             [ 0.40106615],\n",
       "             [-0.40952823],\n",
       "             [-0.08429453],\n",
       "             [-0.4092824 ],\n",
       "             [ 0.4082648 ],\n",
       "             [-0.40990946],\n",
       "             [-0.2865591 ],\n",
       "             [ 0.40988138],\n",
       "             [-0.4065214 ],\n",
       "             [-0.4095841 ],\n",
       "             [ 0.40990552],\n",
       "             [ 0.3952844 ],\n",
       "             [ 0.20285073],\n",
       "             [-0.40974134],\n",
       "             [ 0.40072748],\n",
       "             [ 0.33526748],\n",
       "             [ 0.3880719 ],\n",
       "             [ 0.4096114 ],\n",
       "             [-0.40926346],\n",
       "             [-0.3868462 ],\n",
       "             [ 0.38003683],\n",
       "             [ 0.40819427],\n",
       "             [-0.02435875],\n",
       "             [ 0.3789723 ],\n",
       "             [ 0.16297545],\n",
       "             [-0.28089243],\n",
       "             [-0.40904397],\n",
       "             [ 0.40982413],\n",
       "             [ 0.40926084],\n",
       "             [ 0.40224358],\n",
       "             [-0.4095684 ],\n",
       "             [-0.07874691],\n",
       "             [ 0.40978834],\n",
       "             [-0.39415687],\n",
       "             [ 0.4086303 ],\n",
       "             [-0.39764938],\n",
       "             [ 0.39886335],\n",
       "             [ 0.40950647],\n",
       "             [ 0.39851853],\n",
       "             [-0.4055904 ],\n",
       "             [ 0.4099036 ],\n",
       "             [-0.40985322],\n",
       "             [-0.40986767],\n",
       "             [-0.4096794 ],\n",
       "             [-0.39968765],\n",
       "             [-0.32677782],\n",
       "             [-0.409612  ],\n",
       "             [-0.4085734 ],\n",
       "             [-0.40802878],\n",
       "             [ 0.40965593],\n",
       "             [ 0.3450184 ],\n",
       "             [-0.36121893],\n",
       "             [ 0.35462916],\n",
       "             [ 0.4096133 ],\n",
       "             [-0.40848544],\n",
       "             [-0.05770534],\n",
       "             [-0.39663658],\n",
       "             [-0.4051067 ],\n",
       "             [-0.40862966],\n",
       "             [-0.38212478],\n",
       "             [ 0.15411237],\n",
       "             [-0.4040409 ],\n",
       "             [ 0.4099007 ],\n",
       "             [-0.40980962],\n",
       "             [ 0.21421671],\n",
       "             [ 0.3556903 ],\n",
       "             [ 0.37771362],\n",
       "             [-0.4012307 ],\n",
       "             [ 0.03332533],\n",
       "             [ 0.40990546],\n",
       "             [-0.4099085 ],\n",
       "             [-0.40939665],\n",
       "             [-0.40982246],\n",
       "             [-0.40984604],\n",
       "             [-0.13668671],\n",
       "             [ 0.40825945],\n",
       "             [-0.2052927 ],\n",
       "             [ 0.35631767],\n",
       "             [-0.40927443],\n",
       "             [-0.40742314],\n",
       "             [-0.40991026],\n",
       "             [-0.40842137],\n",
       "             [ 0.4072717 ],\n",
       "             [ 0.40044048],\n",
       "             [ 0.3745462 ],\n",
       "             [ 0.31990358],\n",
       "             [ 0.37211016],\n",
       "             [-0.12973863],\n",
       "             [ 0.05923067],\n",
       "             [ 0.36541396],\n",
       "             [ 0.36717835],\n",
       "             [-0.40842423],\n",
       "             [-0.4046226 ],\n",
       "             [ 0.06408639],\n",
       "             [-0.09548119],\n",
       "             [ 0.31725302],\n",
       "             [-0.39647663],\n",
       "             [-0.40971667],\n",
       "             [-0.4099089 ],\n",
       "             [ 0.33260202],\n",
       "             [ 0.40965638],\n",
       "             [ 0.18643986],\n",
       "             [-0.40528387],\n",
       "             [ 0.40989292],\n",
       "             [-0.40934512],\n",
       "             [-0.23146339],\n",
       "             [-0.4093288 ],\n",
       "             [ 0.40984428],\n",
       "             [ 0.3755484 ],\n",
       "             [-0.40991   ],\n",
       "             [ 0.36859062],\n",
       "             [ 0.40073037],\n",
       "             [-0.4068831 ],\n",
       "             [ 0.40801495],\n",
       "             [-0.40968484],\n",
       "             [-0.40955758],\n",
       "             [ 0.36525348],\n",
       "             [ 0.40980604],\n",
       "             [ 0.40990752],\n",
       "             [ 0.40909472],\n",
       "             [ 0.40282193],\n",
       "             [-0.30235985],\n",
       "             [-0.40990198],\n",
       "             [ 0.2901627 ],\n",
       "             [ 0.3706156 ],\n",
       "             [-0.40741727],\n",
       "             [ 0.4098172 ],\n",
       "             [ 0.40686634],\n",
       "             [-0.40959883],\n",
       "             [ 0.11722904],\n",
       "             [-0.40986937],\n",
       "             [ 0.40970337],\n",
       "             [-0.2247103 ],\n",
       "             [ 0.4085792 ],\n",
       "             [-0.40974376],\n",
       "             [-0.05557553],\n",
       "             [-0.21749161],\n",
       "             [-0.35959086],\n",
       "             [-0.40961197],\n",
       "             [-0.40990615],\n",
       "             [ 0.08536529],\n",
       "             [-0.10142295],\n",
       "             [-0.40402102],\n",
       "             [-0.40911463],\n",
       "             [-0.3934715 ],\n",
       "             [-0.37766635],\n",
       "             [-0.4056287 ],\n",
       "             [-0.05272496],\n",
       "             [-0.2922668 ],\n",
       "             [-0.3115539 ],\n",
       "             [ 0.40959975],\n",
       "             [ 0.40977162],\n",
       "             [-0.30152085],\n",
       "             [ 0.40988988],\n",
       "             [-0.14842218],\n",
       "             [ 0.2706083 ],\n",
       "             [-0.39722708],\n",
       "             [ 0.40791726],\n",
       "             [-0.40966782],\n",
       "             [-0.40978742],\n",
       "             [ 0.40717477],\n",
       "             [ 0.4099027 ],\n",
       "             [ 0.40801707],\n",
       "             [ 0.40808326],\n",
       "             [ 0.4098252 ],\n",
       "             [ 0.22306548],\n",
       "             [ 0.40559387],\n",
       "             [ 0.4061463 ],\n",
       "             [-0.409676  ],\n",
       "             [-0.4091773 ],\n",
       "             [-0.40220594],\n",
       "             [-0.40710843],\n",
       "             [-0.4072209 ],\n",
       "             [-0.3442244 ],\n",
       "             [-0.20798317],\n",
       "             [-0.39798683],\n",
       "             [ 0.40990704],\n",
       "             [ 0.3294467 ],\n",
       "             [-0.40472415],\n",
       "             [ 0.27717543],\n",
       "             [-0.38401797],\n",
       "             [ 0.3673133 ],\n",
       "             [-0.4096238 ],\n",
       "             [ 0.2967262 ],\n",
       "             [-0.29205605],\n",
       "             [-0.37894204],\n",
       "             [-0.35995668],\n",
       "             [-0.40953425],\n",
       "             [-0.40957507],\n",
       "             [-0.40812427],\n",
       "             [ 0.40915868],\n",
       "             [ 0.06272595],\n",
       "             [ 0.11167113],\n",
       "             [ 0.20428963],\n",
       "             [-0.39974433],\n",
       "             [-0.4032813 ],\n",
       "             [-0.30702317],\n",
       "             [ 0.25536954],\n",
       "             [-0.4070766 ],\n",
       "             [ 0.40970552],\n",
       "             [ 0.37187088],\n",
       "             [ 0.40979186],\n",
       "             [ 0.14585765],\n",
       "             [ 0.4092438 ],\n",
       "             [-0.40990868],\n",
       "             [-0.40835124],\n",
       "             [ 0.34585962],\n",
       "             [ 0.40601385],\n",
       "             [ 0.40981737],\n",
       "             [ 0.40885276],\n",
       "             [ 0.04558326],\n",
       "             [ 0.40961692],\n",
       "             [ 0.404153  ],\n",
       "             [ 0.40986276],\n",
       "             [ 0.4013454 ],\n",
       "             [-0.3953319 ],\n",
       "             [-0.4017739 ],\n",
       "             [-0.40988508],\n",
       "             [-0.40703642],\n",
       "             [-0.36613598],\n",
       "             [ 0.3420374 ],\n",
       "             [ 0.40712652],\n",
       "             [-0.28485966],\n",
       "             [ 0.40955538],\n",
       "             [-0.40217742],\n",
       "             [-0.02322767],\n",
       "             [ 0.39933246],\n",
       "             [ 0.40967628],\n",
       "             [ 0.03277175],\n",
       "             [ 0.19800399],\n",
       "             [ 0.26472566],\n",
       "             [ 0.40330258],\n",
       "             [-0.37697902],\n",
       "             [ 0.4098775 ],\n",
       "             [ 0.3452577 ],\n",
       "             [-0.39293632],\n",
       "             [-0.4008044 ],\n",
       "             [-0.3986257 ],\n",
       "             [ 0.40310338],\n",
       "             [ 0.40990904],\n",
       "             [-0.40882084],\n",
       "             [ 0.3322846 ],\n",
       "             [-0.40931624],\n",
       "             [ 0.39540142],\n",
       "             [-0.4098142 ],\n",
       "             [ 0.40178955],\n",
       "             [-0.40858105],\n",
       "             [-0.3791695 ],\n",
       "             [-0.4099096 ],\n",
       "             [-0.09203284],\n",
       "             [-0.4046131 ],\n",
       "             [-0.40990856],\n",
       "             [ 0.27631235],\n",
       "             [-0.364369  ],\n",
       "             [-0.40983012],\n",
       "             [-0.38501623],\n",
       "             [ 0.40989995],\n",
       "             [ 0.20714475],\n",
       "             [ 0.40843523],\n",
       "             [ 0.33838704],\n",
       "             [ 0.40980965],\n",
       "             [ 0.40700525],\n",
       "             [-0.15145676],\n",
       "             [ 0.4089412 ],\n",
       "             [ 0.40709922],\n",
       "             [ 0.37457314],\n",
       "             [-0.40985927],\n",
       "             [ 0.26876658],\n",
       "             [-0.04809286],\n",
       "             [-0.40826982],\n",
       "             [ 0.40960598],\n",
       "             [ 0.35502997],\n",
       "             [ 0.4070561 ],\n",
       "             [-0.3645811 ],\n",
       "             [ 0.36472455],\n",
       "             [ 0.40895993],\n",
       "             [-0.4098435 ],\n",
       "             [-0.40960035],\n",
       "             [-0.37508076],\n",
       "             [ 0.40535352],\n",
       "             [ 0.40986153],\n",
       "             [-0.28184512],\n",
       "             [ 0.1375229 ],\n",
       "             [-0.4094033 ],\n",
       "             [-0.31310725],\n",
       "             [-0.37989473],\n",
       "             [ 0.40982926],\n",
       "             [ 0.40514666],\n",
       "             [-0.39712965],\n",
       "             [-0.40757424],\n",
       "             [-0.40985948],\n",
       "             [ 0.22338535],\n",
       "             [ 0.4094847 ],\n",
       "             [-0.40769058],\n",
       "             [ 0.409905  ],\n",
       "             [-0.40979263],\n",
       "             [ 0.20781365],\n",
       "             [-0.40916872],\n",
       "             [ 0.40088418],\n",
       "             [ 0.04752518],\n",
       "             [ 0.4096808 ],\n",
       "             [ 0.34986073],\n",
       "             [ 0.4037343 ],\n",
       "             [ 0.40944418],\n",
       "             [-0.06420517],\n",
       "             [ 0.4098637 ],\n",
       "             [-0.23869379],\n",
       "             [ 0.40977767],\n",
       "             [-0.33325252],\n",
       "             [-0.36063763],\n",
       "             [ 0.40693158],\n",
       "             [ 0.10363756],\n",
       "             [ 0.33535516],\n",
       "             [-0.40899694],\n",
       "             [ 0.3850279 ],\n",
       "             [ 0.40737024],\n",
       "             [ 0.40972254],\n",
       "             [-0.40990874],\n",
       "             [-0.40312666],\n",
       "             [ 0.38924882],\n",
       "             [ 0.4096156 ],\n",
       "             [-0.4098938 ],\n",
       "             [-0.39863327],\n",
       "             [-0.19381131],\n",
       "             [-0.4099082 ],\n",
       "             [ 0.4098791 ],\n",
       "             [-0.36000103],\n",
       "             [ 0.16289675],\n",
       "             [-0.38780293],\n",
       "             [ 0.18437082],\n",
       "             [ 0.40249285],\n",
       "             [-0.4068467 ],\n",
       "             [ 0.04784166],\n",
       "             [-0.29034385],\n",
       "             [-0.40973887],\n",
       "             [ 0.40783533],\n",
       "             [ 0.3975873 ],\n",
       "             [-0.39601755],\n",
       "             [-0.0696651 ],\n",
       "             [ 0.3530777 ],\n",
       "             [-0.40965894],\n",
       "             [-0.4097874 ],\n",
       "             [-0.40967104],\n",
       "             [ 0.40980813],\n",
       "             [-0.2925008 ],\n",
       "             [ 0.40835136],\n",
       "             [-0.3391271 ],\n",
       "             [ 0.40557924],\n",
       "             [ 0.2989434 ],\n",
       "             [ 0.4084286 ],\n",
       "             [-0.4073585 ],\n",
       "             [-0.2845412 ],\n",
       "             [ 0.40052953],\n",
       "             [-0.39745748],\n",
       "             [ 0.40939942],\n",
       "             [-0.4097862 ],\n",
       "             [ 0.4067464 ],\n",
       "             [-0.10950775],\n",
       "             [ 0.20550157],\n",
       "             [-0.40975967],\n",
       "             [-0.40969267],\n",
       "             [-0.4098623 ],\n",
       "             [-0.3917047 ],\n",
       "             [-0.19274779],\n",
       "             [-0.40239975],\n",
       "             [ 0.21692847],\n",
       "             [ 0.32268465],\n",
       "             [ 0.07950954],\n",
       "             [-0.40219012],\n",
       "             [ 0.40989286],\n",
       "             [-0.07141507],\n",
       "             [ 0.13024782],\n",
       "             [-0.4094941 ],\n",
       "             [ 0.0817882 ],\n",
       "             [ 0.11813446],\n",
       "             [ 0.4098362 ],\n",
       "             [-0.00862516],\n",
       "             [-0.4046559 ],\n",
       "             [-0.3851697 ],\n",
       "             [-0.24841748],\n",
       "             [-0.40904722],\n",
       "             [ 0.03226445],\n",
       "             [ 0.40978912],\n",
       "             [ 0.36241207],\n",
       "             [-0.06778632],\n",
       "             [ 0.4066968 ],\n",
       "             [ 0.40966225],\n",
       "             [-0.40988103],\n",
       "             [ 0.40984482],\n",
       "             [-0.39434233],\n",
       "             [-0.40886852],\n",
       "             [ 0.40895206],\n",
       "             [ 0.09838258],\n",
       "             [-0.40990877],\n",
       "             [-0.40984225],\n",
       "             [ 0.4079994 ],\n",
       "             [ 0.40990698],\n",
       "             [ 0.02861428],\n",
       "             [-0.4098197 ],\n",
       "             [-0.4096891 ],\n",
       "             [ 0.404217  ],\n",
       "             [ 0.10512446],\n",
       "             [-0.40897533],\n",
       "             [-0.31229883],\n",
       "             [ 0.3923803 ],\n",
       "             [-0.40087926],\n",
       "             [ 0.39190203],\n",
       "             [ 0.3356312 ],\n",
       "             [ 0.19526574],\n",
       "             [ 0.4089058 ],\n",
       "             [ 0.40853375],\n",
       "             [-0.30986604],\n",
       "             [ 0.40333787],\n",
       "             [ 0.24812311],\n",
       "             [ 0.39036885],\n",
       "             [-0.2182858 ],\n",
       "             [-0.40990862],\n",
       "             [-0.37794986],\n",
       "             [ 0.40801108],\n",
       "             [ 0.40977576],\n",
       "             [ 0.40987256],\n",
       "             [-0.3713476 ],\n",
       "             [-0.17568383],\n",
       "             [-0.04829284],\n",
       "             [-0.4095931 ],\n",
       "             [-0.39622483],\n",
       "             [ 0.40829393],\n",
       "             [ 0.20805073],\n",
       "             [ 0.15425783],\n",
       "             [-0.38447228],\n",
       "             [ 0.4052533 ],\n",
       "             [ 0.3988837 ],\n",
       "             [-0.37861946],\n",
       "             [ 0.3964908 ],\n",
       "             [ 0.3998273 ],\n",
       "             [ 0.37901896],\n",
       "             [-0.39226362],\n",
       "             [-0.38645416],\n",
       "             [-0.40975726],\n",
       "             [-0.40963945],\n",
       "             [-0.3405179 ],\n",
       "             [ 0.40990683],\n",
       "             [-0.40711048],\n",
       "             [ 0.40989065],\n",
       "             [-0.40983772],\n",
       "             [-0.09890815],\n",
       "             [ 0.33511183],\n",
       "             [ 0.40430474],\n",
       "             [-0.40859875],\n",
       "             [-0.313456  ],\n",
       "             [-0.35555932],\n",
       "             [-0.39238882],\n",
       "             [ 0.16826685],\n",
       "             [ 0.21199752],\n",
       "             [ 0.330169  ],\n",
       "             [ 0.40990964],\n",
       "             [-0.40988132],\n",
       "             [-0.40961507],\n",
       "             [ 0.4085751 ],\n",
       "             [ 0.15488617],\n",
       "             [-0.40983003],\n",
       "             [ 0.40883476],\n",
       "             [-0.40737763],\n",
       "             [-0.40532973],\n",
       "             [ 0.40935072],\n",
       "             [-0.40986365],\n",
       "             [ 0.40530515],\n",
       "             [-0.24676205],\n",
       "             [-0.40903887],\n",
       "             [ 0.40821034],\n",
       "             [ 0.4098057 ],\n",
       "             [ 0.31052107],\n",
       "             [-0.40980566],\n",
       "             [ 0.01653163],\n",
       "             [-0.4097912 ],\n",
       "             [ 0.40953988],\n",
       "             [ 0.40990874],\n",
       "             [-0.40886804],\n",
       "             [ 0.40942746],\n",
       "             [-0.4099103 ],\n",
       "             [-0.40991056],\n",
       "             [-0.40945992],\n",
       "             [-0.40428331],\n",
       "             [ 0.40668023],\n",
       "             [ 0.23533931],\n",
       "             [ 0.40652528],\n",
       "             [-0.36080632],\n",
       "             [-0.37740374],\n",
       "             [-0.40910542],\n",
       "             [-0.32396114],\n",
       "             [-0.01298578],\n",
       "             [ 0.2666099 ],\n",
       "             [ 0.4021054 ],\n",
       "             [-0.409881  ],\n",
       "             [ 0.35786697],\n",
       "             [ 0.40991017],\n",
       "             [-0.40966314],\n",
       "             [ 0.40978017],\n",
       "             [ 0.40980467],\n",
       "             [-0.40677118],\n",
       "             [-0.4096632 ],\n",
       "             [-0.3888684 ],\n",
       "             [-0.40965238],\n",
       "             [ 0.11418948],\n",
       "             [-0.40948096],\n",
       "             [-0.40171358],\n",
       "             [ 0.35963327],\n",
       "             [-0.3858339 ],\n",
       "             [ 0.17231528],\n",
       "             [-0.40238032],\n",
       "             [ 0.3840107 ],\n",
       "             [ 0.40955117],\n",
       "             [-0.40963265],\n",
       "             [-0.40986958],\n",
       "             [ 0.03848471],\n",
       "             [-0.28528598],\n",
       "             [ 0.39878118],\n",
       "             [-0.4095148 ],\n",
       "             [-0.38126022],\n",
       "             [ 0.38499   ],\n",
       "             [ 0.27038586],\n",
       "             [ 0.38987482],\n",
       "             [-0.40986276],\n",
       "             [-0.40987217],\n",
       "             [-0.08993239]], dtype=float32)"
      ]
     },
     "execution_count": 396,
     "metadata": {},
     "output_type": "execute_result"
    }
   ],
   "source": [
    "expansion(init_params, x_train)"
   ]
  },
  {
   "cell_type": "code",
   "execution_count": null,
   "metadata": {},
   "outputs": [],
   "source": []
  }
 ],
 "metadata": {
  "kernelspec": {
   "display_name": "Python [conda env:thesis]",
   "language": "python",
   "name": "conda-env-thesis-py"
  },
  "language_info": {
   "codemirror_mode": {
    "name": "ipython",
    "version": 3
   },
   "file_extension": ".py",
   "mimetype": "text/x-python",
   "name": "python",
   "nbconvert_exporter": "python",
   "pygments_lexer": "ipython3",
   "version": "3.7.6"
  }
 },
 "nbformat": 4,
 "nbformat_minor": 4
}
