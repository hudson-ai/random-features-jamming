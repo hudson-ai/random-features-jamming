{
 "cells": [
  {
   "cell_type": "code",
   "execution_count": null,
   "metadata": {},
   "outputs": [],
   "source": [
    "import tensorflow as tf\n",
    "import neural_tangents as nt\n",
    "from neural_tangents import stax\n",
    "import jax.numpy as np\n",
    "from jax import random\n",
    "\n",
    "from matplotlib import pyplot as plt\n",
    "%matplotlib inline\n",
    "%config InlineBackend.figure_format = 'retina'"
   ]
  },
  {
   "cell_type": "code",
   "execution_count": null,
   "metadata": {},
   "outputs": [],
   "source": [
    "def find_h(N, L, d, n=1, bias=True):\n",
    "    # Modified from https://github.com/mariogeiger/nn_jamming/blob/master/constN.py\n",
    "    # TODO: bias=False?\n",
    "    '''\n",
    "        For a network with: \n",
    "        \n",
    "        d input dimensionality, \n",
    "        L layers, \n",
    "        N total parameters, \n",
    "        n final outputs,\n",
    "        \n",
    "        this finds the corresponding width h \n",
    "    '''\n",
    "    assert L >= 1\n",
    "\n",
    "    if L == 1:\n",
    "        # solve : N = h*(d+1) + n*(h+1)\n",
    "        h = (N - n) / (d + n + 1)\n",
    "    else:\n",
    "        # solve : N = h*(d+1) + (L-1)*h*(h+1) + n*(h+1)\n",
    "        h = -(d+L+n - ((d+L+n)**2 + 4*(L-1)*(N-n))**.5)/(2*(L-1))\n",
    "    return round(h)\n",
    "\n",
    "def find_N(h, L, d, n=1):\n",
    "    return h*(d+1) + (L-1)*h*(h+1) + n*(h+1)"
   ]
  },
  {
   "cell_type": "markdown",
   "metadata": {},
   "source": [
    "Prepare data"
   ]
  },
  {
   "cell_type": "code",
   "execution_count": null,
   "metadata": {},
   "outputs": [],
   "source": [
    "# Load data from https://www.openml.org/d/554\n",
    "from sklearn.datasets import fetch_openml\n",
    "X_raw, y_raw = fetch_openml('mnist_784', version=1, return_X_y=True)"
   ]
  },
  {
   "cell_type": "code",
   "execution_count": null,
   "metadata": {},
   "outputs": [],
   "source": [
    "P = 1000 #train\n",
    "P_total = int(1.25*P)\n",
    "\n",
    "X = X_raw[:P_total]\n",
    "y = (2*(y_raw.astype(int) % 2) - 1)[:P_total].reshape(-1,1)"
   ]
  },
  {
   "cell_type": "code",
   "execution_count": null,
   "metadata": {},
   "outputs": [],
   "source": [
    "from sklearn.model_selection import train_test_split\n",
    "X_train, X_test, y_train, y_test = train_test_split(\n",
    "    X, y, test_size=1-P/P_total, random_state=42)\n",
    "len(X_train)"
   ]
  },
  {
   "cell_type": "code",
   "execution_count": null,
   "metadata": {},
   "outputs": [],
   "source": [
    "from sklearn.decomposition import PCA\n",
    "n_components = 20\n",
    "pca = PCA(n_components = n_components)\n",
    "pca = pca.fit(X_train)"
   ]
  },
  {
   "cell_type": "code",
   "execution_count": null,
   "metadata": {},
   "outputs": [],
   "source": [
    "X_train = pca.transform(X_train)\n",
    "X_test = pca.transform(X_test)\n",
    "\n",
    "# project to hyper-sphere of radius sqrt(n_components)\n",
    "X_train = np.sqrt(n_components) * X_train / np.linalg.norm(X_train, axis = 1, keepdims=True)\n",
    "X_test = np.sqrt(n_components) * X_test / np.linalg.norm(X_test, axis = 1, keepdims=True)"
   ]
  },
  {
   "cell_type": "markdown",
   "metadata": {},
   "source": [
    "Prepare network"
   ]
  },
  {
   "cell_type": "code",
   "execution_count": null,
   "metadata": {},
   "outputs": [],
   "source": [
    "d = n_components\n",
    "L = 2\n",
    "N = 20000\n",
    "\n",
    "h = find_h(N, L, d)\n",
    "print(h)"
   ]
  },
  {
   "cell_type": "code",
   "execution_count": null,
   "metadata": {},
   "outputs": [],
   "source": [
    "init_fn, apply_fn, kernel_fn_inf = stax.serial(\n",
    "    *[stax.Dense(h), stax.Erf()]*L,\n",
    "    stax.Dense(1)\n",
    ")"
   ]
  },
  {
   "cell_type": "code",
   "execution_count": null,
   "metadata": {},
   "outputs": [],
   "source": [
    "kernelkey = random.PRNGKey(42)\n",
    "_, init_params = init_fn(kernelkey, X_train.shape)"
   ]
  },
  {
   "cell_type": "code",
   "execution_count": null,
   "metadata": {},
   "outputs": [],
   "source": [
    "kernel_fn = nt.empirical_kernel_fn(apply_fn)"
   ]
  },
  {
   "cell_type": "code",
   "execution_count": null,
   "metadata": {},
   "outputs": [],
   "source": [
    "gram_ntk = kernel_fn(X_train, X_train, init_params, get='ntk')"
   ]
  },
  {
   "cell_type": "code",
   "execution_count": null,
   "metadata": {},
   "outputs": [],
   "source": [
    "eigs = np.linalg.eigvalsh(gram_ntk[:,:, 0, 0])"
   ]
  },
  {
   "cell_type": "code",
   "execution_count": null,
   "metadata": {},
   "outputs": [],
   "source": [
    "plt.figure()\n",
    "hist = plt.hist(eigs[:-4], 100)\n",
    "plt.axvline(0, color='k', linestyle=':')\n",
    "plt.ylim(0,100)\n",
    "\n",
    "plt.figure()\n",
    "loghist = plt.hist(np.log(eigs), 100)"
   ]
  },
  {
   "cell_type": "markdown",
   "metadata": {},
   "source": [
    "# Do linearized neural networks exhibit jamming?"
   ]
  },
  {
   "cell_type": "markdown",
   "metadata": {},
   "source": [
    "Fisrt, let's look at the results for network width going to infinity"
   ]
  },
  {
   "cell_type": "code",
   "execution_count": null,
   "metadata": {},
   "outputs": [],
   "source": [
    "force = lambda f, y: 1/2 - f*y\n",
    "loss = lambda fx, y_hat: np.mean(1/2 * np.maximum(0, force(fx, y_hat))**2)"
   ]
  },
  {
   "cell_type": "code",
   "execution_count": null,
   "metadata": {},
   "outputs": [],
   "source": [
    "# g_dd = kernel_fn(X_train, X_train, init_params, get='ntk')\n",
    "# g_td = kernel_fn(X_test, X_train, init_params, get='ntk')\n",
    "\n",
    "g_dd = kernel_fn_inf(X_train, X_train, get='ntk')\n",
    "g_td = kernel_fn_inf(X_test, X_train, get='ntk')"
   ]
  },
  {
   "cell_type": "code",
   "execution_count": null,
   "metadata": {},
   "outputs": [],
   "source": [
    "predict_fn = nt.predict.gradient_descent(g_dd, y_train, loss, g_td)"
   ]
  },
  {
   "cell_type": "code",
   "execution_count": null,
   "metadata": {},
   "outputs": [],
   "source": [
    "train_time = 5e4\n",
    "\n",
    "fx_train_initial = apply_fn(init_params, X_train)\n",
    "fx_test_initial = apply_fn(init_params, X_test)\n",
    "\n",
    "fx_train_final, fx_test_final = predict_fn(\n",
    "    train_time, \n",
    "    fx_train_initial, fx_test_initial\n",
    ")\n",
    "train_loss_inf = loss(fx_train_final, y_train)\n",
    "test_loss_inf = loss(fx_test_final, y_test)\n",
    "\n",
    "train_loss_inf, test_loss_inf"
   ]
  },
  {
   "cell_type": "code",
   "execution_count": null,
   "metadata": {},
   "outputs": [],
   "source": [
    "print(train_loss_inf)"
   ]
  },
  {
   "cell_type": "code",
   "execution_count": null,
   "metadata": {},
   "outputs": [],
   "source": [
    "print(test_loss_inf)"
   ]
  },
  {
   "cell_type": "code",
   "execution_count": null,
   "metadata": {},
   "outputs": [],
   "source": [
    "plt.scatter(y_train, fx_train_final)"
   ]
  },
  {
   "cell_type": "code",
   "execution_count": null,
   "metadata": {},
   "outputs": [],
   "source": [
    "plt.scatter(y_test, fx_test_final)"
   ]
  },
  {
   "cell_type": "markdown",
   "metadata": {},
   "source": [
    "## Training loop"
   ]
  },
  {
   "cell_type": "code",
   "execution_count": null,
   "metadata": {},
   "outputs": [],
   "source": [
    "from tqdm import notebook as tqdm"
   ]
  },
  {
   "cell_type": "code",
   "execution_count": null,
   "metadata": {},
   "outputs": [],
   "source": [
    "train_losses = []\n",
    "test_losses = []\n",
    "train_forces = []\n",
    "test_forces = []\n",
    "\n",
    "Ns = []\n",
    "\n",
    "for hi in tqdm.trange(h, 0, -1):\n",
    "    Ni = find_N(hi, L, d)\n",
    "    Ns.append(Ni)\n",
    "\n",
    "    init_fn, apply_fn, kernel_fn_inf = stax.serial(\n",
    "        *[stax.Dense(hi), stax.Erf()]*L,\n",
    "        stax.Dense(1)\n",
    "    )\n",
    "    _, init_params = init_fn(kernelkey, X_train.shape)\n",
    "\n",
    "    kernel_fn = nt.empirical_kernel_fn(apply_fn)\n",
    "\n",
    "    g_dd = kernel_fn(X_train, X_train, init_params, get='ntk')\n",
    "    g_td = kernel_fn(X_test, X_train, init_params, get='ntk')\n",
    "\n",
    "    predict_fn = nt.predict.gradient_descent(g_dd, y_train, loss, g_td)\n",
    "\n",
    "\n",
    "    fx_train_initial = apply_fn(init_params, X_train)\n",
    "    fx_test_initial = apply_fn(init_params, X_test)\n",
    "\n",
    "    fx_train_final, fx_test_final = predict_fn(\n",
    "        train_time, \n",
    "        fx_train_initial, fx_test_initial\n",
    "    )\n",
    "    \n",
    "    train_loss = loss(fx_train_final, y_train)\n",
    "    test_loss = loss(fx_test_final, y_test)\n",
    "    \n",
    "    train_force = np.ravel(force(fx_train_final, y_train))\n",
    "    test_force = np.ravel(force(fx_test_final, y_test))\n",
    "\n",
    "    train_losses.append(train_loss)\n",
    "    test_losses.append(test_loss)\n",
    "    train_forces.append(train_force)\n",
    "    test_forces.append(test_forces)"
   ]
  },
  {
   "cell_type": "markdown",
   "metadata": {},
   "source": [
    "Save data"
   ]
  },
  {
   "cell_type": "code",
   "execution_count": null,
   "metadata": {},
   "outputs": [],
   "source": [
    "# import pickle\n",
    "# data = {\n",
    "#     'train_losses': train_losses,\n",
    "#     'test_losses': test_losses,\n",
    "#     'train_forces': train_forces,\n",
    "#     'test_forces': test_forces,\n",
    "#     'Ns': Ns,\n",
    "#     'train_loss_inf': train_loss_inf,\n",
    "#     'test_loss_inf': test_loss_inf\n",
    "# }\n",
    "# pickle.dump(data, open('data.pkl', 'wb'))"
   ]
  },
  {
   "cell_type": "markdown",
   "metadata": {},
   "source": [
    "Plot"
   ]
  },
  {
   "cell_type": "code",
   "execution_count": null,
   "metadata": {},
   "outputs": [],
   "source": [
    "plt.figure(figsize=(10,7))\n",
    "plt.plot(np.array(Ns)/P, train_losses, label='train')\n",
    "plt.axhline(train_loss_inf, label='train, infinite network', color='blue', ls=':')\n",
    "plt.plot(np.array(Ns)/P, test_losses, label='test')\n",
    "plt.axhline(test_loss_inf, label='test, infinite network', color='orange', ls=':')\n",
    "plt.ylim(-.01,None)\n",
    "plt.legend()\n",
    "plt.xlabel(r'$N/P$')\n",
    "plt.ylabel(r'$\\mathcal{L}$')\n",
    "plt.title('Training and testing loss as a function of $N/P$ for an NTK-linearized network')"
   ]
  },
  {
   "cell_type": "code",
   "execution_count": null,
   "metadata": {},
   "outputs": [],
   "source": [
    "plt.figure(figsize=(10,7))\n",
    "plt.plot(np.log(np.array(Ns)/P), train_losses, label='train')\n",
    "plt.axhline(train_loss_inf, label='train, infinite network', color='blue', ls=':')\n",
    "plt.plot(np.log(np.array(Ns)/P), test_losses, label='test')\n",
    "plt.axhline(test_loss_inf, label='test, infinite network', color='orange', ls=':')\n",
    "plt.ylim(-.01,None)\n",
    "plt.legend()\n",
    "plt.xlabel(r'log $N/P$')\n",
    "plt.ylabel(r'$\\mathcal{L}$')\n",
    "plt.title('Training and testing loss as a function of $N/P$ for an NTK-linearized network')"
   ]
  },
  {
   "cell_type": "code",
   "execution_count": null,
   "metadata": {},
   "outputs": [],
   "source": [
    "N_dels = []\n",
    "EPS = 0\n",
    "for forces in train_forces:\n",
    "    N_del_i = sum(forces > -EPS)\n",
    "    N_dels.append(N_del_i)"
   ]
  },
  {
   "cell_type": "code",
   "execution_count": null,
   "metadata": {},
   "outputs": [],
   "source": [
    "plt.scatter((np.array(train_losses)), (np.array(N_dels)/np.array(Ns)))\n",
    "plt.xlabel('$\\mathcal{L}$')\n",
    "plt.ylabel('$N_\\Delta/N$')\n",
    "# plt.xlim(0,.08)\n",
    "# plt.ylim(0,1)\n"
   ]
  },
  {
   "cell_type": "code",
   "execution_count": null,
   "metadata": {},
   "outputs": [],
   "source": [
    "plt.scatter(np.log(np.array(train_losses)), np.log(np.array(N_dels)/np.array(Ns)))\n",
    "plt.xlabel('$log \\mathcal{L}$')\n",
    "plt.ylabel('$\\log \\ N_\\Delta/N$')\n",
    "# plt.xlim(0,.08)\n",
    "# plt.ylim(0,1)\n"
   ]
  },
  {
   "cell_type": "code",
   "execution_count": null,
   "metadata": {},
   "outputs": [],
   "source": [
    "plt.scatter((train_losses), np.log(np.array(N_dels)/np.array(Ns)))\n",
    "plt.xlabel('$\\mathcal{L}$')\n",
    "plt.ylabel('$log  N_\\Delta/N$')\n",
    "# plt.xlim(0,.08)\n",
    "# plt.ylim(0,1)\n"
   ]
  },
  {
   "cell_type": "code",
   "execution_count": null,
   "metadata": {},
   "outputs": [],
   "source": [
    "plt.scatter(np.log(np.array(train_losses)), (np.array(N_dels)/np.array(Ns)))\n",
    "plt.xlabel('$log \\mathcal{L}$')\n",
    "plt.ylabel('$N_\\Delta/N$')\n",
    "# plt.xlim(0,.08)\n",
    "# plt.ylim(0,1)\n"
   ]
  },
  {
   "cell_type": "code",
   "execution_count": null,
   "metadata": {},
   "outputs": [],
   "source": [
    "plt.scatter((P/np.array(Ns))[:-5], (np.array(N_dels)/np.array(Ns))[:-5])\n",
    "plt.xlabel('$P/N$')\n",
    "plt.ylabel('$N_\\Delta/N$')"
   ]
  },
  {
   "cell_type": "code",
   "execution_count": null,
   "metadata": {},
   "outputs": [],
   "source": []
  }
 ],
 "metadata": {
  "kernelspec": {
   "display_name": "Python [conda env:thesis]",
   "language": "python",
   "name": "conda-env-thesis-py"
  },
  "language_info": {
   "codemirror_mode": {
    "name": "ipython",
    "version": 3
   },
   "file_extension": ".py",
   "mimetype": "text/x-python",
   "name": "python",
   "nbconvert_exporter": "python",
   "pygments_lexer": "ipython3",
   "version": "3.7.6"
  }
 },
 "nbformat": 4,
 "nbformat_minor": 4
}
