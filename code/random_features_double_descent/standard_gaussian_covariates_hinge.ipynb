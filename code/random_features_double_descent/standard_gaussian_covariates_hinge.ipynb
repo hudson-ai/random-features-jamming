{
 "cells": [
  {
   "cell_type": "code",
   "execution_count": null,
   "metadata": {},
   "outputs": [],
   "source": [
    "%load_ext line_profiler\n",
    "%load_ext autoreload\n",
    "\n",
    "import numpy as np\n",
    "\n",
    "import tensorflow as tf\n",
    "import neural_tangents as nt\n",
    "from neural_tangents import stax\n",
    "\n",
    "from jax.config import config; config.update(\"jax_enable_x64\", True)\n",
    "import jax.numpy as jnp\n",
    "from jax import random, jit\n",
    "\n",
    "from matplotlib import pyplot as plt\n",
    "%matplotlib inline\n",
    "%config InlineBackend.figure_format = 'retina'"
   ]
  },
  {
   "cell_type": "code",
   "execution_count": null,
   "metadata": {},
   "outputs": [],
   "source": [
    "from matplotlib.colors import LinearSegmentedColormap\n",
    "\n",
    "cmap = LinearSegmentedColormap.from_list(\n",
    "    'Mei2019', \n",
    "    np.array([\n",
    "        (243, 232, 29),\n",
    "        (245, 173, 47),\n",
    "        (140, 193, 53),\n",
    "        (50,  191, 133),\n",
    "        (23,  167, 198),\n",
    "        (36,  123, 235),\n",
    "        (53,  69,  252),\n",
    "        (52,  27,  203)\n",
    "    ])/255., \n",
    ")\n",
    "\n",
    "gradient = np.linspace(0, 1, 256)\n",
    "gradient = np.vstack((gradient, gradient))\n",
    "fig = plt.figure(figsize=(6,.5))\n",
    "img = plt.imshow(gradient, aspect='auto', cmap=cmap)\n",
    "title = plt.title('Colormap stolen from Mei2019')"
   ]
  },
  {
   "cell_type": "markdown",
   "metadata": {},
   "source": [
    "Prepare data"
   ]
  },
  {
   "cell_type": "code",
   "execution_count": null,
   "metadata": {},
   "outputs": [],
   "source": [
    "from scipy.special import expit as sigmoid"
   ]
  },
  {
   "cell_type": "code",
   "execution_count": null,
   "metadata": {},
   "outputs": [],
   "source": [
    "P = 2000 #train\n",
    "P_test = 1000"
   ]
  },
  {
   "cell_type": "code",
   "execution_count": null,
   "metadata": {},
   "outputs": [],
   "source": [
    "d = 2*P\n",
    "\n",
    "x = np.random.randn(P+P_test,d)\n",
    "x = np.sqrt(d) * x / np.linalg.norm(x, axis=1, keepdims=True)\n",
    "\n",
    "a0 = np.random.randn(d)\n",
    "a0 = np.sqrt(d) * a0 / np.linalg.norm(a0)\n",
    "\n",
    "L = x @ a0 / np.sqrt(d)\n",
    "\n",
    "sigma = .1\n",
    "y = np.random.binomial(1, sigmoid(L/sigma))*2-1 #logistic model\n",
    "\n",
    "X_train, X_test = x[:P], x[P:]\n",
    "y_train, y_test = y[:P], y[P:]"
   ]
  },
  {
   "cell_type": "code",
   "execution_count": null,
   "metadata": {},
   "outputs": [],
   "source": [
    "plt.hist(L)"
   ]
  },
  {
   "cell_type": "code",
   "execution_count": null,
   "metadata": {},
   "outputs": [],
   "source": [
    "plt.scatter(L[:P], y_train)"
   ]
  },
  {
   "cell_type": "code",
   "execution_count": null,
   "metadata": {},
   "outputs": [],
   "source": [
    "plt.scatter(L[P:], y_test)"
   ]
  },
  {
   "cell_type": "code",
   "execution_count": null,
   "metadata": {},
   "outputs": [],
   "source": [
    "\"\"\"\n",
    "    Minimizing squared hinge loss with small regularization on the weights. \n",
    "    This gives us an L2-regularized L2-loss SVM:\n",
    "        https://www.csie.ntu.edu.tw/~cjlin/papers/liblinear.pdf#equation.A.2\n",
    "\"\"\"\n",
    "import liblinear\n",
    "import liblinearutil\n",
    "import os\n",
    "\n",
    "lamb = 1e-3\n",
    "C = 1/(P*lamb)\n",
    "\n",
    "#Primal (-s 2) is faster in our case\n",
    "model = liblinearutil.train(y_train.reshape(-1), np.array(X_train), f'-s 2 -n {os.cpu_count()} -c {C}')"
   ]
  },
  {
   "cell_type": "code",
   "execution_count": null,
   "metadata": {},
   "outputs": [],
   "source": [
    "p_label, p_acc, p_val = liblinearutil.predict(y_train.reshape(-1), np.array(X_train), model, '-q')"
   ]
  },
  {
   "cell_type": "code",
   "execution_count": null,
   "metadata": {},
   "outputs": [],
   "source": [
    "hist = plt.hist(np.ravel(p_val), bins = 100)\n",
    "plt.title(f'Train: {p_acc[0]:.0f}% accuracy')"
   ]
  },
  {
   "cell_type": "code",
   "execution_count": null,
   "metadata": {},
   "outputs": [],
   "source": [
    "p_label, p_acc, p_val = liblinearutil.predict(y_test.reshape(-1), np.array(X_test), model, '-q')"
   ]
  },
  {
   "cell_type": "code",
   "execution_count": null,
   "metadata": {},
   "outputs": [],
   "source": [
    "hist = plt.hist(np.ravel(p_val), bins = 100)\n",
    "plt.title(f'Test: {p_acc[0]:.0f}% accuracy')"
   ]
  },
  {
   "cell_type": "markdown",
   "metadata": {},
   "source": [
    "## Train loop"
   ]
  },
  {
   "cell_type": "code",
   "execution_count": null,
   "metadata": {},
   "outputs": [],
   "source": [
    "from tqdm import notebook as tqdm"
   ]
  },
  {
   "cell_type": "code",
   "execution_count": null,
   "metadata": {},
   "outputs": [],
   "source": [
    "results = []\n",
    "\n",
    "for sqrt_d in tqdm.tqdm(np.arange(np.sqrt(d), 1, -1)):\n",
    "    di = int(sqrt_d**2) #Quadratic, as if we were changing h in the NTK case\n",
    "    \n",
    "    x = np.random.randn(P+P_test, di)\n",
    "    x = np.sqrt(di) * x / np.linalg.norm(x, axis=1, keepdims=True)\n",
    "\n",
    "    a0 = np.random.randn(di)\n",
    "    a0 = np.sqrt(di) * a0 / np.linalg.norm(a0)\n",
    "\n",
    "    L = x @ a0 / np.sqrt(di)\n",
    "\n",
    "    sigma = .1\n",
    "    y = np.random.binomial(1, sigmoid(L/sigma))*2-1 #logistic model\n",
    "\n",
    "    X_train, X_test = x[:P], x[P:]\n",
    "    y_train, y_test = y[:P], y[P:]\n",
    "    \n",
    "    for lamb in np.logspace(0,-8, 5):\n",
    "        C = 1/(P*lamb)\n",
    "        model = liblinearutil.train(y_train.reshape(-1), np.array(X_train), f'-s 2 -n {os.cpu_count()} -c {C}')\n",
    "\n",
    "        train_p_label, train_p_acc, train_p_val = liblinearutil.predict(y_train.reshape(-1), np.array(X_train), model, '-q')\n",
    "        test_p_label, test_p_acc, test_p_val = liblinearutil.predict(y_test.reshape(-1), np.array(X_test), model, '-q')\n",
    "        \n",
    "        result = {\n",
    "            'sigma': sigma,\n",
    "            'd': di,\n",
    "            'P': P,\n",
    "            'lambda': lamb,\n",
    "            'y_train': y_train.reshape(-1),\n",
    "            'y_train_hat': np.array(train_p_val).reshape(-1),\n",
    "            'y_test': y_test.reshape(-1),\n",
    "            'y_test_hat': np.array(test_p_val).reshape(-1)\n",
    "        }\n",
    "        \n",
    "        results.append(result)"
   ]
  },
  {
   "cell_type": "code",
   "execution_count": null,
   "metadata": {},
   "outputs": [],
   "source": [
    "import pandas as pd"
   ]
  },
  {
   "cell_type": "code",
   "execution_count": null,
   "metadata": {},
   "outputs": [],
   "source": [
    "result_df = pd.read_json(open('results/spherical_gaussian_cov_hinge.json', 'r'))\n",
    "for column in result_df.columns:\n",
    "    result_df[column] = result_df[column].apply(lambda x: np.array(x) if isinstance(x, list) else x)"
   ]
  },
  {
   "cell_type": "code",
   "execution_count": null,
   "metadata": {},
   "outputs": [],
   "source": [
    "# result_df = pd.DataFrame(results)\n",
    "# result_df.to_json(open('results/spherical_gaussian_cov_hinge.json', 'w'))"
   ]
  },
  {
   "cell_type": "code",
   "execution_count": null,
   "metadata": {},
   "outputs": [],
   "source": [
    "force = lambda y,f: 1 - y*f\n",
    "loss = lambda y,f: np.mean(np.maximum(0, force(y,f))**2)\n",
    "N_del = lambda y,f: np.sum(force(y,f) >= 0)"
   ]
  },
  {
   "cell_type": "code",
   "execution_count": null,
   "metadata": {},
   "outputs": [],
   "source": [
    "result_df['d/P'] = result_df['d']/result_df['P']\n",
    "result_df['P/d'] = result_df['P']/result_df['d']\n",
    "\n",
    "result_df['test_loss'] = np.vectorize(loss)(result_df.y_test, result_df.y_test_hat)\n",
    "result_df['train_loss'] = np.vectorize(loss)(result_df.y_train, result_df.y_train_hat)\n",
    "result_df['d_del'] = np.vectorize(N_del)(result_df.y_train, result_df.y_train_hat)\n",
    "result_df['d_del/P'] = result_df['d_del']/result_df['P']\n",
    "result_df['d_del/d'] = result_df['d_del']/result_df['d']"
   ]
  },
  {
   "cell_type": "code",
   "execution_count": null,
   "metadata": {},
   "outputs": [],
   "source": [
    "fig, ax = plt.subplots(figsize=(10,7))\n",
    "n_colors = len(result_df['lambda'].unique())\n",
    "\n",
    "#Test\n",
    "for i, (lamb, df) in enumerate(result_df.groupby('lambda')):\n",
    "    df.plot('d/P', 'test_loss', label='$\\log_{10}(\\lambda)$='+f'{np.log10(lamb):.1f}', ax=ax, color=cmap(float(i)/(n_colors)))\n",
    "\n",
    "#Train\n",
    "for i, (lamb, df) in enumerate(result_df.groupby('lambda')):\n",
    "    df.plot('d/P', 'train_loss', label='$\\log_{10}(\\lambda)$='+f'{np.log10(lamb):.1f}', ax=ax, color=cmap(float(i)/(n_colors)), ls=':')\n",
    "\n",
    "ax.legend(ncol=2, title='Test:                           Train:', title_fontsize=11)\n",
    "ax.set_ylabel('Loss')\n",
    "ax.grid(True, ls='--', alpha=.3)\n",
    "ax.set_title('Hinge loss on spherical gaussian data with linear-logistic labels')\n",
    "\n",
    "# fig.savefig('spherical_gaussian_cov_hinge_regularized.png', dpi=300)"
   ]
  },
  {
   "cell_type": "code",
   "execution_count": null,
   "metadata": {},
   "outputs": [],
   "source": [
    "fig, ax = plt.subplots(figsize=(10,7))\n",
    "n_colors = len(result_df['lambda'].unique())\n",
    "\n",
    "for i, (lamb, df) in enumerate(result_df.groupby('lambda')):\n",
    "    df.plot('d/P', 'd_del/P', label='$\\log_{10}(\\lambda)$='+f'{np.log10(lamb):.1f}', ax=ax, color=cmap(float(i)/(n_colors)))\n",
    "\n",
    "ax.set_ylabel(r'$d_{\\Delta}/P$')\n",
    "ax.grid(True, ls='--', alpha=.3)\n",
    "ax.set_title('Hinge loss on spherical gaussian data with linear-logistic labels')\n"
   ]
  },
  {
   "cell_type": "code",
   "execution_count": null,
   "metadata": {},
   "outputs": [],
   "source": [
    "fig, ax = plt.subplots(figsize=(10,7))\n",
    "n_colors = len(result_df['lambda'].unique())\n",
    "\n",
    "for i, (lamb, df) in enumerate(result_df.groupby('lambda')):\n",
    "    if lamb < 1:\n",
    "        df.iloc[:-1].plot('P/d', 'd_del/d', label='$\\log_{10}(\\lambda)$='+f'{np.log10(lamb):.1f}', ax=ax, color=cmap(float(i)/(n_colors)), kind='scatter')\n",
    "\n",
    "ax.set_ylabel(r'$d_{\\Delta}/d$')\n",
    "ax.grid(True, ls='--', alpha=.3)\n",
    "ax.set_title('Hinge loss on spherical gaussian data with linear-logistic labels')\n",
    "ax.set_xlim(0,5)\n",
    "ax.set_ylim(0,2)\n",
    "# fig.savefig('spherical_gaussian_cov_hinge_regularized.png', dpi=300)"
   ]
  },
  {
   "cell_type": "code",
   "execution_count": null,
   "metadata": {},
   "outputs": [],
   "source": [
    "fig, ax = plt.subplots(figsize=(10,7))\n",
    "n_colors = len(result_df['lambda'].unique())\n",
    "\n",
    "for i, (lamb, df) in enumerate(result_df.groupby('lambda')):\n",
    "    if lamb < 1:\n",
    "        df.iloc[:-1].plot('train_loss', 'd_del/d', label='$\\log_{10}(\\lambda)$='+f'{np.log10(lamb):.1f}', ax=ax, color=cmap(float(i)/(n_colors)), kind='scatter')\n",
    "\n",
    "ax.set_ylabel(r'$d_{\\Delta}/$')\n",
    "ax.grid(True, ls='--', alpha=.3)\n",
    "ax.set_title('Hinge loss on spherical gaussian data with linear-logistic labels')\n",
    "ax.set_xlim(0,.2)\n",
    "ax.set_ylim(0,10)\n",
    "# fig.savefig('spherical_gaussian_cov_hinge_regularized.png', dpi=300)"
   ]
  },
  {
   "cell_type": "code",
   "execution_count": null,
   "metadata": {},
   "outputs": [],
   "source": [
    "fig, ax = plt.subplots(figsize=(10,7))\n",
    "n_colors = len(result_df['lambda'].unique())\n",
    "\n",
    "for i, (lamb, df) in enumerate(result_df.groupby('lambda')):\n",
    "    if lamb < 1:\n",
    "        df.iloc[:-1].plot('P/d', 'd_del/d', label='$\\log_{10}(\\lambda)$='+f'{np.log10(lamb):.1f}', ax=ax, color=cmap(float(i)/(n_colors)), kind='scatter')\n",
    "\n",
    "ax.set_ylabel(r'$d_{\\Delta}/d$')\n",
    "ax.grid(True, ls='--', alpha=.3)\n",
    "ax.set_title('Hinge loss on spherical gaussian data with linear-logistic labels')\n",
    "ax.set_xlim(0,10)\n",
    "ax.set_ylim(0,2)\n",
    "# fig.savefig('spherical_gaussian_cov_hinge_regularized.png', dpi=300)"
   ]
  },
  {
   "cell_type": "code",
   "execution_count": null,
   "metadata": {},
   "outputs": [],
   "source": [
    "fig, ax = plt.subplots(figsize=(10,7))\n",
    "n_colors = len(result_df['lambda'].unique())\n",
    "\n",
    "for i, (lamb, df) in enumerate(result_df.groupby('lambda')):\n",
    "    if lamb < 1:\n",
    "        df.iloc[:-1].plot('P/d', 'd_del/d', label='$\\log_{10}(\\lambda)$='+f'{np.log10(lamb):.1f}', ax=ax, color=cmap(float(i)/(n_colors)), kind='scatter')\n",
    "\n",
    "ax.set_ylabel(r'$d_{\\Delta}/d$')\n",
    "ax.grid(True, ls='--', alpha=.3)\n",
    "ax.set_title('Hinge loss on spherical gaussian data with linear-logistic labels')\n",
    "plt.ylim(0,2)\n",
    "plt.xlim(0,10)\n",
    "\n",
    "# fig.savefig('spherical_gaussian_cov_hinge_regularized.png', dpi=300)"
   ]
  },
  {
   "cell_type": "code",
   "execution_count": null,
   "metadata": {},
   "outputs": [],
   "source": [
    "fig, ax = plt.subplots(figsize=(10,7))\n",
    "n_colors = len(result_df['lambda'].unique())\n",
    "\n",
    "for i, (lamb, df) in enumerate(result_df.groupby('lambda')):\n",
    "    if lamb < 1:\n",
    "        df.iloc[:-1].plot('train_loss', 'd_del/d', label='$\\log_{10}(\\lambda)$='+f'{np.log10(lamb):.1f}', ax=ax, color=cmap(float(i)/(n_colors)), kind='scatter')\n",
    "\n",
    "ax.set_ylabel(r'$d_{\\Delta}/d$')\n",
    "ax.grid(True, ls='--', alpha=.3)\n",
    "ax.set_title('Hinge loss on spherical gaussian data with linear-logistic labels')\n",
    "plt.ylim(0,2)\n",
    "# fig.savefig('spherical_gaussian_cov_hinge_regularized.png', dpi=300)"
   ]
  },
  {
   "cell_type": "code",
   "execution_count": null,
   "metadata": {},
   "outputs": [],
   "source": [
    "fig, ax = plt.subplots(figsize=(10,7))\n",
    "n_colors = len(result_df['lambda'].unique())\n",
    "\n",
    "for i, (lamb, df) in enumerate(result_df.groupby('lambda')):\n",
    "    df.plot('P/d', 'd_del/d', label='$\\log_{10}(\\lambda)$='+f'{np.log10(lamb):.1f}', ax=ax, color=cmap(float(i)/(n_colors)), kind='scatter')\n",
    "\n",
    "ax.set_ylabel(r'$d_{\\Delta}/d$')\n",
    "ax.grid(True, ls='--', alpha=.3)\n",
    "ax.set_title('Hinge loss on spherical gaussian data with linear-logistic labels')\n",
    "plt.xlim(0, 10)\n",
    "plt.ylim(0, 2)\n",
    "\n",
    "\n",
    "# fig.savefig('spherical_gaussian_cov_hinge_regularized.png', dpi=300)"
   ]
  },
  {
   "cell_type": "code",
   "execution_count": null,
   "metadata": {},
   "outputs": [],
   "source": [
    "fig, ax = plt.subplots(figsize=(10,7))\n",
    "n_colors = len(result_df['lambda'].unique())\n",
    "\n",
    "#Test\n",
    "for i, (lamb, df) in enumerate(result_df.groupby('lambda')):\n",
    "    df.plot('d_del/d', 'test_loss', label='$\\log_{10}(\\lambda)$='+f'{np.log10(lamb):.1f}', ax=ax, color=cmap(float(i)/(n_colors-1)), kind='scatter')\n",
    "\n",
    "#Train\n",
    "for i, (lamb, df) in enumerate(result_df.groupby('lambda')):\n",
    "    df.plot('d_del/d', 'train_loss', label='$\\log_{10}(\\lambda)$='+f'{np.log10(lamb):.1f}', ax=ax, color=cmap(float(i)/(n_colors-1)), marker='x', kind='scatter')\n",
    "\n",
    "ax.legend(ncol=2, title='Test:                           Train:', title_fontsize=11)\n",
    "ax.set_ylabel('Hinge Loss')\n",
    "ax.grid(True, ls='--', alpha=.3)\n",
    "ax.set_title('Hinge loss on spherical gaussian data with linear-logistic labels')\n",
    "# ax.set_xlim(0,5)\n",
    "# ax.set_ylim(-.1,2)\n",
    "plt.xscale('log')\n",
    "# fig.savefig('spherical_gaussian_cov_hinge_regularized.png', dpi=300)"
   ]
  },
  {
   "cell_type": "code",
   "execution_count": null,
   "metadata": {},
   "outputs": [],
   "source": []
  },
  {
   "cell_type": "code",
   "execution_count": null,
   "metadata": {},
   "outputs": [],
   "source": []
  },
  {
   "cell_type": "code",
   "execution_count": null,
   "metadata": {},
   "outputs": [],
   "source": [
    "fig, ax = plt.subplots(figsize=(10,7))\n",
    "n_colors = len(result_df['lambda'].unique())\n",
    "\n",
    "for i, (lamb, df) in enumerate(result_df.groupby('lambda')):\n",
    "    if lamb < 1:\n",
    "        df.iloc[:-1].plot('train_loss', 'd_del/d', label='$\\log_{10}(\\lambda)$='+f'{np.log10(lamb):.1f}', ax=ax, color=cmap(float(i)/(n_colors)), kind='scatter')\n",
    "\n",
    "ax.set_ylabel(r'$d_{\\Delta}/d$')\n",
    "ax.grid(True, ls='--', alpha=.3)\n",
    "ax.set_title('Hinge loss on spherical gaussian data with linear-logistic labels')\n",
    "plt.yscale('log')\n",
    "# fig.savefig('spherical_gaussian_cov_hinge_regularized.png', dpi=300)"
   ]
  },
  {
   "cell_type": "code",
   "execution_count": null,
   "metadata": {},
   "outputs": [],
   "source": [
    "fig, ax = plt.subplots(figsize=(10,7))\n",
    "n_colors = len(result_df['lambda'].unique())\n",
    "\n",
    "for i, (lamb, df) in enumerate(result_df.groupby('lambda')):\n",
    "    if lamb < 1:\n",
    "        df.iloc[:-1].plot('train_loss', 'P/d', label='$\\log_{10}(\\lambda)$='+f'{np.log10(lamb):.1f}', ax=ax, color=cmap(float(i)/(n_colors)), kind='scatter')\n",
    "\n",
    "ax.grid(True, ls='--', alpha=.3)\n",
    "ax.set_title('Hinge loss on spherical gaussian data with linear-logistic labels')\n",
    "plt.yscale('log')\n",
    "# fig.savefig('spherical_gaussian_cov_hinge_regularized.png', dpi=300)"
   ]
  },
  {
   "cell_type": "code",
   "execution_count": null,
   "metadata": {},
   "outputs": [],
   "source": [
    "fig, ax = plt.subplots(figsize=(10,7))\n",
    "n_colors = len(result_df['lambda'].unique())\n",
    "\n",
    "for i, (lamb, df) in enumerate(result_df.groupby('lambda')):\n",
    "    if lamb < 1:\n",
    "        df.iloc[:-1].plot('P/d', 'd_del/d', label='$\\log_{10}(\\lambda)$='+f'{np.log10(lamb):.1f}', ax=ax, color=cmap(float(i)/(n_colors)), kind='scatter')\n",
    "\n",
    "ax.set_ylabel(r'$d_{\\Delta}/d$')\n",
    "ax.grid(True, ls='--', alpha=.3)\n",
    "ax.set_title('Hinge loss on spherical gaussian data with linear-logistic labels')\n",
    "plt.yscale('log')\n",
    "plt.xscale('log')\n",
    "\n",
    "# fig.savefig('spherical_gaussian_cov_hinge_regularized.png', dpi=300)"
   ]
  },
  {
   "cell_type": "code",
   "execution_count": null,
   "metadata": {},
   "outputs": [],
   "source": [
    "fig, ax = plt.subplots(figsize=(10,7))\n",
    "n_colors = len(result_df['lambda'].unique())\n",
    "\n",
    "for i, (lamb, df) in enumerate(result_df.groupby('lambda')):\n",
    "    if lamb < 1:\n",
    "        df.iloc[:-1].plot('P/d', 'd_del/d', label='$\\log_{10}(\\lambda)$='+f'{np.log10(lamb):.1f}', ax=ax, color=cmap(float(i)/(n_colors)), kind='scatter')\n",
    "\n",
    "ax.set_ylabel(r'$d_{\\Delta}/d$')\n",
    "ax.grid(True, ls='--', alpha=.3)\n",
    "ax.set_title('Hinge loss on spherical gaussian data with linear-logistic labels')\n",
    "# plt.xscale('log')\n",
    "plt.ylim(.5, 1.5)\n",
    "plt.xlim(0,10)\n",
    "# fig.savefig('spherical_gaussian_cov_hinge_regularized.png', dpi=300)"
   ]
  },
  {
   "cell_type": "code",
   "execution_count": null,
   "metadata": {},
   "outputs": [],
   "source": [
    "fig, ax = plt.subplots(figsize=(10,7))\n",
    "n_colors = len(result_df['lambda'].unique())\n",
    "\n",
    "for i, (lamb, df) in enumerate(result_df.groupby('lambda')):\n",
    "    if lamb < 1:\n",
    "        df.iloc[:-1].plot('d', 'd_del', label='$\\log_{10}(\\lambda)$='+f'{np.log10(lamb):.1f}', ax=ax, color=cmap(float(i)/(n_colors)), kind='scatter')\n",
    "\n",
    "plt.plot((0,1000), (0,1000))\n",
    "ax.grid(True, ls='--', alpha=.3)\n",
    "ax.set_title('Hinge loss on spherical gaussian data with linear-logistic labels')\n",
    "# fig.savefig('spherical_gaussian_cov_hinge_regularized.png', dpi=300)"
   ]
  },
  {
   "cell_type": "code",
   "execution_count": null,
   "metadata": {},
   "outputs": [],
   "source": []
  }
 ],
 "metadata": {
  "kernelspec": {
   "display_name": "Python [conda env:thesis]",
   "language": "python",
   "name": "conda-env-thesis-py"
  },
  "language_info": {
   "codemirror_mode": {
    "name": "ipython",
    "version": 3
   },
   "file_extension": ".py",
   "mimetype": "text/x-python",
   "name": "python",
   "nbconvert_exporter": "python",
   "pygments_lexer": "ipython3",
   "version": "3.7.6"
  }
 },
 "nbformat": 4,
 "nbformat_minor": 4
}
