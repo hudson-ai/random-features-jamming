{
 "cells": [
  {
   "cell_type": "code",
   "execution_count": null,
   "metadata": {},
   "outputs": [],
   "source": [
    "%load_ext line_profiler\n",
    "%load_ext autoreload\n",
    "\n",
    "import numpy as np\n",
    "from matplotlib import pyplot as plt\n",
    "%matplotlib inline\n",
    "%config InlineBackend.figure_format = 'retina'\n",
    "\n",
    "from scipy.special import expit as sigmoid\n",
    "from scipy.stats import norm\n",
    "from scipy import integrate\n",
    "\n",
    "import tqdm.notebook as tqdm"
   ]
  },
  {
   "cell_type": "code",
   "execution_count": null,
   "metadata": {},
   "outputs": [],
   "source": [
    "P = 5000\n",
    "d = 1\n",
    "\n",
    "# mu = np.random.randn(d)\n",
    "# Sigma = np.random.randn(d,d)\n",
    "# Sigma = Sigma @ Sigma.T / d  \n",
    "\n",
    "mu = np.zeros(d)\n",
    "Sigma = np.eye(d)\n",
    "\n",
    "x = np.random.multivariate_normal(mu, Sigma, P)\n",
    "\n",
    "a0 = np.random.randn(d)\n",
    "a0 = np.sqrt(d) * a0 / np.linalg.norm(a0)"
   ]
  },
  {
   "cell_type": "code",
   "execution_count": null,
   "metadata": {},
   "outputs": [],
   "source": [
    "c = 3 #inverse std of logistic noise\n",
    "y = np.random.binomial(1, sigmoid(c * x @ a0 / np.sqrt(d)))*2 - 1 #scaled heaviside of logistic noise"
   ]
  },
  {
   "cell_type": "code",
   "execution_count": null,
   "metadata": {},
   "outputs": [],
   "source": [
    "V = y[:,None] * x@a0 / np.sqrt(d)"
   ]
  },
  {
   "cell_type": "code",
   "execution_count": null,
   "metadata": {},
   "outputs": [],
   "source": [
    "lamb = 1e-6\n",
    "eta = lambda m: np.maximum(0, 1-m)\n",
    "H = lambda a: np.mean(eta(y[:,None] * x @ a/np.sqrt(d)), 0) + lamb*(a**2).sum(0)"
   ]
  },
  {
   "cell_type": "code",
   "execution_count": null,
   "metadata": {},
   "outputs": [],
   "source": [
    "grid = np.linspace(-0,2,100).reshape(1, -1)\n",
    "plt.plot(grid[0,:], H(grid))\n",
    "plt.axvline(a0)"
   ]
  },
  {
   "cell_type": "code",
   "execution_count": null,
   "metadata": {},
   "outputs": [],
   "source": [
    "grid"
   ]
  },
  {
   "cell_type": "code",
   "execution_count": null,
   "metadata": {},
   "outputs": [],
   "source": [
    "if d == 1:\n",
    "    h1 = plt.hist(x[np.sign(V-1) == 1], density=True, bins=100, alpha=.8)\n",
    "    h2 = plt.hist(x[np.sign(V-1) == -1], density=True, bins=100, alpha=.8)"
   ]
  },
  {
   "cell_type": "code",
   "execution_count": null,
   "metadata": {},
   "outputs": [],
   "source": [
    "loc = a0 @ mu / np.sqrt(d)\n",
    "scale = np.sqrt(a0.T @ Sigma @ a0 / d)\n",
    "p = lambda x: sigmoid(c * x) * (norm.pdf(x, loc=loc, scale=scale) + norm.pdf(x, loc=-loc, scale=scale))"
   ]
  },
  {
   "cell_type": "code",
   "execution_count": null,
   "metadata": {},
   "outputs": [],
   "source": [
    "hist = plt.hist(V, bins=200, density=True, label='Simulated')\n",
    "\n",
    "grid = np.linspace(min(V),max(V))\n",
    "plt.plot(grid, p(grid), lw=5, label='Analytic')\n",
    "\n",
    "plt.legend()\n",
    "plt.title(r'PDF of $V = y a_0^T x / \\sqrt{d}$')"
   ]
  },
  {
   "cell_type": "code",
   "execution_count": null,
   "metadata": {},
   "outputs": [],
   "source": [
    "from scipy.stats import rv_continuous"
   ]
  },
  {
   "cell_type": "code",
   "execution_count": null,
   "metadata": {},
   "outputs": [],
   "source": [
    "class VDistribution(rv_continuous):\n",
    "    def __init__(self, loc, scale, c, name='VDistribution'):\n",
    "        super().__init__(a=-np.inf, b=np.inf)\n",
    "        \n",
    "        self.loc = loc\n",
    "        self.scale = scale\n",
    "        self.c = c\n",
    "        \n",
    "    def _pdf(self, x):\n",
    "        return sigmoid(self.c * x) * (norm.pdf(x, loc=self.loc, scale=self.scale) + norm.pdf(x, loc=-self.loc, scale=self.scale))"
   ]
  },
  {
   "cell_type": "code",
   "execution_count": null,
   "metadata": {},
   "outputs": [],
   "source": [
    "V = VDistribution(loc, scale, c)\n",
    "Z = norm(0, 1)"
   ]
  },
  {
   "cell_type": "code",
   "execution_count": null,
   "metadata": {},
   "outputs": [],
   "source": [
    "def V_pdf(x):\n",
    "    return sigmoid(self.c * x) * (norm.pdf(x, loc=self.loc, scale=self.scale) + norm.pdf(x, loc=-self.loc, scale=self.scale))"
   ]
  },
  {
   "cell_type": "code",
   "execution_count": null,
   "metadata": {},
   "outputs": [],
   "source": [
    "from scipy import integrate\n",
    "from numpy import inf"
   ]
  },
  {
   "cell_type": "code",
   "execution_count": null,
   "metadata": {},
   "outputs": [],
   "source": [
    "def pVZ(v, z):\n",
    "    V = VDistribution(loc, scale, c)\n",
    "    Z = norm(0, 1)\n",
    "    return Z.pdf(z)*V.pdf(v)"
   ]
  },
  {
   "cell_type": "code",
   "execution_count": null,
   "metadata": {},
   "outputs": [],
   "source": [
    "integrate.dblquad(lambda z,v: Z.pdf(z)*V.pdf(v), -inf, inf, lambda a: -inf, lambda b: inf)"
   ]
  },
  {
   "cell_type": "code",
   "execution_count": null,
   "metadata": {},
   "outputs": [],
   "source": [
    "integrate.romberg(V.pdf, -inf, inf)"
   ]
  },
  {
   "cell_type": "code",
   "execution_count": null,
   "metadata": {},
   "outputs": [],
   "source": [
    "def f1(alpha, sigma, gamma):\n",
    "    \"\"\"\n",
    "        P(αV +σZ ≤ 1−γ)\n",
    "    \"\"\"\n",
    "    return V.expect(lambda v: Z.cdf((1-gamma)/sigma - alpha/sigma * v))\n",
    "\n",
    "def f2(alpha, sigma):\n",
    "    \"\"\"\n",
    "        P(αV +σZ ≥1)\n",
    "    \"\"\"\n",
    "    return V.expect(lambda v: 1 - Z.cdf(1/sigma - alpha/sigma * v))\n",
    "\n",
    "def f3(alpha, sigma, gamma):\n",
    "    \"\"\"\n",
    "        E[ ((1 − (αV + σZ)) / γ)^2  * I[1−γ ≤ αV +σZ ≤ 1] ]\n",
    "    \"\"\"\n",
    "    return V.expect(\n",
    "        lambda v: Z.expect(\n",
    "            lambda z: ((1 - (alpha*v + sigma*z)) / gamma)**2, lb = (1-gamma-alpha*v)/sigma, ub = (1-alpha*v)/sigma\n",
    "        )\n",
    "    )\n",
    "\n",
    "def g1(lamb, gamma, delta):\n",
    "    return (2*lamb*gamma-1)*delta+1\n",
    "\n",
    "def g2(sigma, gamma, delta):\n",
    "    return delta*(sigma/gamma)**2\n"
   ]
  },
  {
   "cell_type": "code",
   "execution_count": null,
   "metadata": {},
   "outputs": [],
   "source": [
    "def eq1(alpha, sigma, gamma, delta, lamb):\n",
    "    return f1(alpha, sigma, gamma) + f2(alpha, sigma) - g1(lamb, gamma, delta)\n",
    "\n",
    "def eq2(alpha, sigma, gamma, delta, lamb):\n",
    "    return f1(alpha, sigma, gamma) + f3(alpha, sigma, gamma) - g2(sigma, gamma, delta)"
   ]
  },
  {
   "cell_type": "code",
   "execution_count": null,
   "metadata": {},
   "outputs": [],
   "source": [
    "def train_loss(alpha, sigma, gamma):\n",
    "    return V.expect(\n",
    "        lambda v: Z.expect(\n",
    "            lambda z: 1 - gamma - alpha*v - sigma*z, ub=(1-gamma-alpha*v)/sigma\n",
    "        )\n",
    "    ) \n",
    "\n",
    "def test_loss(alpha, sigma):\n",
    "    \"\"\"\n",
    "        The paper gives no expression for this. This is a guess.\n",
    "    \"\"\"\n",
    "    return V.expect(\n",
    "        lambda v: Z.expect(\n",
    "            lambda z: 1 - alpha*v - sigma * z, ub=(1-alpha*v)/sigma\n",
    "        )\n",
    "    ) "
   ]
  },
  {
   "cell_type": "code",
   "execution_count": null,
   "metadata": {},
   "outputs": [],
   "source": [
    "from scipy import optimize"
   ]
  },
  {
   "cell_type": "code",
   "execution_count": null,
   "metadata": {},
   "outputs": [],
   "source": [
    "cons = [{'type':'eq', 'fun': lambda p: eq1(*p, delta, lamb)}, {'type':'eq', 'fun': lambda p: eq2(*p, delta, lamb)}]"
   ]
  },
  {
   "cell_type": "code",
   "execution_count": null,
   "metadata": {},
   "outputs": [],
   "source": [
    "def obj(p):\n",
    "    alpha, sigma, gamma = p\n",
    "    \n",
    "    return V.expect(\n",
    "        lambda v: Z.expect(\n",
    "            lambda z: 1 - gamma - alpha*v - sigma * z, ub=(1-gamma-alpha*v)/sigma\n",
    "        )\n",
    "    ) + lamb*delta*(sigma**2 + alpha**2)"
   ]
  },
  {
   "cell_type": "code",
   "execution_count": null,
   "metadata": {},
   "outputs": [],
   "source": [
    "lamb = 1e-6\n",
    "delta = 1\n",
    "\n",
    "gamma = .42\n",
    "sigma = .40\n",
    "alpha = .28\n",
    "\n",
    "res = optimize.minimize(obj, (alpha, sigma, gamma), constraints=cons, options={'disp': True, 'iprint':5})"
   ]
  },
  {
   "cell_type": "code",
   "execution_count": null,
   "metadata": {},
   "outputs": [],
   "source": [
    "res = optimize.minimize(obj, (alpha, sigma, gamma), constraints=cons, options={'disp': True, 'iprint':5})"
   ]
  },
  {
   "cell_type": "code",
   "execution_count": null,
   "metadata": {},
   "outputs": [],
   "source": [
    "alpha, sigma, gamma = res.x"
   ]
  },
  {
   "cell_type": "code",
   "execution_count": null,
   "metadata": {},
   "outputs": [],
   "source": [
    "res"
   ]
  },
  {
   "cell_type": "code",
   "execution_count": null,
   "metadata": {},
   "outputs": [],
   "source": [
    "train_loss(alpha, sigma, gamma)"
   ]
  },
  {
   "cell_type": "code",
   "execution_count": null,
   "metadata": {},
   "outputs": [],
   "source": [
    "test_loss(alpha, sigma)"
   ]
  },
  {
   "cell_type": "code",
   "execution_count": null,
   "metadata": {},
   "outputs": [],
   "source": [
    "sigma"
   ]
  },
  {
   "cell_type": "code",
   "execution_count": null,
   "metadata": {},
   "outputs": [],
   "source": [
    "gamma"
   ]
  },
  {
   "cell_type": "code",
   "execution_count": null,
   "metadata": {},
   "outputs": [],
   "source": [
    "1 - gamma + alpha*1 + sigma * 1"
   ]
  },
  {
   "cell_type": "code",
   "execution_count": null,
   "metadata": {},
   "outputs": [],
   "source": [
    "lamb*delta*(sigma**2 + alpha**2)"
   ]
  },
  {
   "cell_type": "markdown",
   "metadata": {},
   "source": [
    "## Loop"
   ]
  },
  {
   "cell_type": "code",
   "execution_count": null,
   "metadata": {},
   "outputs": [],
   "source": [
    "lamb = 1e-6\n",
    "\n",
    "deltas = np.linspace(.1, 2, 19)\n",
    "deltas = np.concatenate((deltas, [1.0]))\n",
    "\n",
    "results = []\n",
    "\n",
    "for delta in tqdm.tqdm(deltas):\n",
    "    \n",
    "    #initial values\n",
    "    gamma = 1\n",
    "    sigma = 1\n",
    "    alpha = 1\n",
    "\n",
    "    def obj(p):\n",
    "        alpha, sigma, gamma = p\n",
    "\n",
    "        return V.expect(\n",
    "            lambda v: Z.expect(\n",
    "                lambda z: 1 - gamma - alpha*v - sigma * z, ub=(1-gamma-alpha*v)/sigma\n",
    "            )\n",
    "        ) + lamb*delta*(sigma**2 + alpha**2)\n",
    "    \n",
    "    cons = [{'type':'eq', 'fun': lambda p: eq1(*p, delta, lamb)}, {'type':'eq', 'fun': lambda p: eq2(*p, delta, lamb)}]\n",
    "    out = optimize.minimize(obj, (alpha, sigma, gamma), constraints=cons, bounds = [(0, np.inf)]*3)\n",
    "    alpha, sigma, gamma = out.x\n",
    "    \n",
    "    tr_ls = train_loss(alpha, sigma, gamma)\n",
    "    te_ls = test_loss(alpha, sigma)\n",
    "    \n",
    "\n",
    "    result = {\n",
    "        'lambda':lamb,\n",
    "        'delta': delta,\n",
    "        'gamma': gamma,\n",
    "        'sigma': sigma,\n",
    "        'alpha': alpha,\n",
    "        'v_loc': loc,\n",
    "        'v_scale': scale,\n",
    "        'v_c': c,\n",
    "        'train_loss': tr_ls,\n",
    "        'test_loss': te_ls\n",
    "    }\n",
    "    results.append(result)\n",
    "    \n",
    "    print(result)"
   ]
  },
  {
   "cell_type": "code",
   "execution_count": null,
   "metadata": {},
   "outputs": [],
   "source": [
    "import pandas as pd"
   ]
  },
  {
   "cell_type": "code",
   "execution_count": null,
   "metadata": {},
   "outputs": [],
   "source": [
    "result_df = pd.read_json(open('results/SVM_theoretical_gaussian_cov.json', 'r'))"
   ]
  },
  {
   "cell_type": "code",
   "execution_count": null,
   "metadata": {},
   "outputs": [],
   "source": [
    "# result_df = pd.DataFrame(results)"
   ]
  },
  {
   "cell_type": "code",
   "execution_count": null,
   "metadata": {},
   "outputs": [],
   "source": [
    "# result_df.to_json(open('results/SVM_theoretical_gaussian_cov.json', 'w'))"
   ]
  },
  {
   "cell_type": "code",
   "execution_count": null,
   "metadata": {},
   "outputs": [],
   "source": [
    "result_df"
   ]
  },
  {
   "cell_type": "code",
   "execution_count": null,
   "metadata": {},
   "outputs": [],
   "source": [
    "plt.plot(result_df.delta, np.log(result_df.alpha))"
   ]
  },
  {
   "cell_type": "code",
   "execution_count": null,
   "metadata": {},
   "outputs": [],
   "source": [
    "plt.plot(result_df.delta, np.log(result_df.test_loss))\n",
    "# plt.plot(result_df.delta, result_df.train_loss)"
   ]
  },
  {
   "cell_type": "code",
   "execution_count": null,
   "metadata": {},
   "outputs": [],
   "source": []
  }
 ],
 "metadata": {
  "kernelspec": {
   "display_name": "Python [conda env:thesis]",
   "language": "python",
   "name": "conda-env-thesis-py"
  },
  "language_info": {
   "codemirror_mode": {
    "name": "ipython",
    "version": 3
   },
   "file_extension": ".py",
   "mimetype": "text/x-python",
   "name": "python",
   "nbconvert_exporter": "python",
   "pygments_lexer": "ipython3",
   "version": "3.7.6"
  }
 },
 "nbformat": 4,
 "nbformat_minor": 4
}
