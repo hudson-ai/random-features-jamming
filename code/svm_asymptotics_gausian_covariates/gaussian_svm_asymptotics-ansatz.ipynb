{
 "cells": [
  {
   "cell_type": "code",
   "execution_count": null,
   "metadata": {},
   "outputs": [],
   "source": [
    "%load_ext line_profiler\n",
    "%load_ext autoreload\n",
    "\n",
    "import numpy as np\n",
    "from matplotlib import pyplot as plt\n",
    "%matplotlib inline\n",
    "%config InlineBackend.figure_format = 'retina'\n",
    "\n",
    "from scipy.special import expit as sigmoid\n",
    "from scipy.stats import norm\n",
    "from scipy import integrate\n",
    "\n",
    "import tqdm.notebook as tqdm"
   ]
  },
  {
   "cell_type": "code",
   "execution_count": null,
   "metadata": {},
   "outputs": [],
   "source": [
    "P = 500\n",
    "d = 600\n",
    "lamb = 1e-2\n",
    "c = 1/3 #std of logistic noise\n",
    "\n",
    "mu = np.zeros(d)\n",
    "Sigma = np.eye(d)\n",
    "\n",
    "x = np.random.multivariate_normal(mu, Sigma, P)\n",
    "\n",
    "a0 = np.random.randn(d)\n",
    "a0 = np.sqrt(d) * a0 / np.linalg.norm(a0)"
   ]
  },
  {
   "cell_type": "code",
   "execution_count": null,
   "metadata": {},
   "outputs": [],
   "source": [
    "y = np.random.binomial(1, sigmoid(x @ a0 / (np.sqrt(d) * c)))*2 - 1 #scaled heaviside of logistic noise\n",
    "y = y.reshape(-1, 1)"
   ]
  },
  {
   "cell_type": "code",
   "execution_count": null,
   "metadata": {},
   "outputs": [],
   "source": [
    "V = y * x@a0 / np.sqrt(d)"
   ]
  },
  {
   "cell_type": "code",
   "execution_count": null,
   "metadata": {},
   "outputs": [],
   "source": [
    "eta = lambda m: np.maximum(0, 1-m)**2\n",
    "eta_p = lambda m: np.minimum(0, 2*(m-1))\n",
    "eta_pp = lambda m: 2*(m < 1)"
   ]
  },
  {
   "cell_type": "code",
   "execution_count": null,
   "metadata": {},
   "outputs": [],
   "source": [
    "if d == 1:\n",
    "    h1 = plt.hist(x[np.sign(V-1) == 1], density=True, bins=100, alpha=.8)\n",
    "    h2 = plt.hist(x[np.sign(V-1) == -1], density=True, bins=100, alpha=.8)"
   ]
  },
  {
   "cell_type": "code",
   "execution_count": null,
   "metadata": {},
   "outputs": [],
   "source": [
    "\"\"\"\n",
    "    Minimizing squared hinge loss with small regularization on the weights. \n",
    "    This gives us an L2-regularized L2-loss SVM:\n",
    "        https://www.csie.ntu.edu.tw/~cjlin/papers/liblinear.pdf#equation.A.1\n",
    "\"\"\"\n",
    "import liblinear\n",
    "import liblinearutil\n",
    "import os\n",
    "\n",
    "C = 1/lamb #might need to go into the documentation and fiddle with this to make sure we are using the correct regularization\n",
    "\n",
    "model = liblinearutil.train(y.reshape(-1), np.array(x), f'-s 1 -n {os.cpu_count()} -c {C}')\n",
    "p_label, p_acc, p_val = liblinearutil.predict(y.reshape(-1), np.array(x), model, '-q')\n",
    "\n",
    "a_hat = [model.get_decfun_coef(i+1) for i in range(d)]\n",
    "a_hat = np.array(a_hat)*np.sqrt(d)"
   ]
  },
  {
   "cell_type": "code",
   "execution_count": null,
   "metadata": {},
   "outputs": [],
   "source": [
    "if d == 2:\n",
    "    H = lambda a: C*np.sum(eta(y * x@a / np.sqrt(d)), 0) + 1/2*(a**2).sum(0)\n",
    "\n",
    "    gx = np.linspace(a0[0]-10, a0[0]+10, 200)\n",
    "    gy = np.linspace(a0[1]-10, a0[1]+10, 200)\n",
    "    xx, yy = np.meshgrid(gx, gy)\n",
    "    XY = np.stack((xx, yy)).reshape(2, -1)\n",
    "\n",
    "    HXY = H(XY)\n",
    "\n",
    "    argmin = np.unravel_index(np.argmin(HXY), (len(gx), len(gy)))\n",
    "    a_hat_geom = [gx[argmin[1]], gy[argmin[0]]]\n",
    "\n",
    "    plt.contourf(gx, gy, np.log(HXY).reshape(len(gx), len(gy)), 20)\n",
    "    plt.scatter(a0[0], a0[1])\n",
    "    plt.scatter(a_hat_geom[0], a_hat_geom[1], c='green')\n",
    "    plt.scatter(a_hat[0], a_hat[1], c='orange')\n",
    "    plt.plot([0, a0[0]*3], [0, a0[1]*3], c='red')\n",
    "    plt.colorbar()\n",
    "    \n",
    "    print(a_hat)"
   ]
  },
  {
   "cell_type": "code",
   "execution_count": null,
   "metadata": {},
   "outputs": [],
   "source": [
    "alpha_hat = (a_hat @ a0)/d\n",
    "\n",
    "alphas = np.linspace(.8*alpha_hat,1.2*alpha_hat)\n",
    "\n",
    "plt.plot(alphas, -(1/(lamb*d))*np.sum(eta_p((alphas * V[:,None]))*V[:,None], 0))\n",
    "plt.plot(alphas, alphas)\n",
    "\n",
    "plt.axvline(alpha_hat)"
   ]
  },
  {
   "cell_type": "code",
   "execution_count": null,
   "metadata": {},
   "outputs": [],
   "source": [
    "if d == 2:\n",
    "    Hpp = np.linalg.pinv(np.mean((eta_pp(alpha_hat*V)[:,None,None]*np.einsum('na,nb->nab', x, x)/d) + lamb, 0))/100\n",
    "    \n",
    "    plt.contourf(gx, gy, np.log(HXY).reshape(len(gx), len(gy)))\n",
    "    plt.scatter(a0[0], a0[1])\n",
    "    plt.scatter(a_hat[0], a_hat[1], c='green')\n",
    "    plt.plot([0, a0[0]*3], [0, a0[1]*3], c='red')\n",
    "    plt.colorbar()\n",
    "    \n",
    "    a_samp = np.random.multivariate_normal(alpha_hat*a0, Hpp, 100)\n",
    "    plt.scatter(a_samp[:,0], a_samp[:,1])"
   ]
  },
  {
   "cell_type": "code",
   "execution_count": null,
   "metadata": {},
   "outputs": [],
   "source": [
    "hist = plt.hist(eta_p(V)*V, bins = 100)"
   ]
  },
  {
   "cell_type": "code",
   "execution_count": null,
   "metadata": {},
   "outputs": [],
   "source": [
    "hist = plt.hist(V, bins = 100)"
   ]
  },
  {
   "cell_type": "code",
   "execution_count": null,
   "metadata": {},
   "outputs": [],
   "source": [
    "hist = plt.hist(eta_p(V), bins = 100)"
   ]
  },
  {
   "cell_type": "code",
   "execution_count": null,
   "metadata": {},
   "outputs": [],
   "source": [
    "plt.scatter(x[:,0], x[:,1], c = y.ravel())\n",
    "plt.plot([0,a_hat[0]], [0, a_hat[1]])\n",
    "plt.plot([0,a0[0]], [0, a0[1]])\n",
    "plt.gca().set_aspect('equal')"
   ]
  },
  {
   "cell_type": "code",
   "execution_count": null,
   "metadata": {},
   "outputs": [],
   "source": [
    "plt.scatter(x[:,0], x[:,1], c = eta_pp(alpha_hat*V))\n",
    "plt.plot([0,a_hat[0]], [0, a_hat[1]])\n",
    "plt.plot([0,a0[0]], [0, a0[1]])\n",
    "plt.gca().set_aspect('equal')"
   ]
  },
  {
   "cell_type": "code",
   "execution_count": null,
   "metadata": {},
   "outputs": [],
   "source": [
    "plt.scatter(x[:,0], x[:,1], c = np.array(V).ravel())\n",
    "plt.plot([0,a_hat[0]], [0, a_hat[1]])\n",
    "plt.plot([0,a0[0]], [0, a0[1]])\n",
    "plt.gca().set_aspect('equal')"
   ]
  },
  {
   "cell_type": "code",
   "execution_count": null,
   "metadata": {},
   "outputs": [],
   "source": [
    "plt.scatter(x[:,0], x[:,1], c = norm.cdf(x@a0 / np.sqrt(d)).ravel())\n",
    "plt.plot([0,a_hat[0]], [0, a_hat[1]])\n",
    "plt.plot([0,a0[0]], [0, a0[1]])\n",
    "plt.gca().set_aspect('equal')"
   ]
  },
  {
   "cell_type": "code",
   "execution_count": null,
   "metadata": {},
   "outputs": [],
   "source": [
    "plt.scatter(x[:,0], x[:,1], c = eta(alpha_hat*np.array(V).ravel()))\n",
    "plt.plot([0,a_hat[0]], [0, a_hat[1]])\n",
    "plt.plot([0,a0[0]], [0, a0[1]])\n",
    "plt.gca().set_aspect('equal')"
   ]
  },
  {
   "cell_type": "code",
   "execution_count": null,
   "metadata": {},
   "outputs": [],
   "source": [
    "plt.plot(alpha_hat*V, alpha_hat*V, color='r')\n",
    "plt.scatter(alpha_hat*V, y * x @ a_hat / np.sqrt(d))"
   ]
  },
  {
   "cell_type": "code",
   "execution_count": null,
   "metadata": {},
   "outputs": [],
   "source": []
  },
  {
   "cell_type": "code",
   "execution_count": null,
   "metadata": {},
   "outputs": [],
   "source": [
    "# plt.scatter(*(eta_pp(alpha_hat*V)[:,None] * x).T)"
   ]
  },
  {
   "cell_type": "code",
   "execution_count": null,
   "metadata": {},
   "outputs": [],
   "source": [
    "thing = (eta_pp(alpha_hat*V)[:,None] * x)"
   ]
  },
  {
   "cell_type": "code",
   "execution_count": null,
   "metadata": {},
   "outputs": [],
   "source": [
    "eigs = np.linalg.eigvalsh(thing.T @ thing/d)"
   ]
  },
  {
   "cell_type": "code",
   "execution_count": null,
   "metadata": {},
   "outputs": [],
   "source": [
    "hist=plt.hist(eigs, 100)"
   ]
  },
  {
   "cell_type": "code",
   "execution_count": null,
   "metadata": {},
   "outputs": [],
   "source": [
    "hist=plt.hist(eigs[eigs>1e-5], 100)"
   ]
  },
  {
   "cell_type": "code",
   "execution_count": null,
   "metadata": {},
   "outputs": [],
   "source": [
    "np.min(eigs[eigs>1e-5]) # gap!"
   ]
  },
  {
   "cell_type": "code",
   "execution_count": null,
   "metadata": {},
   "outputs": [],
   "source": []
  }
 ],
 "metadata": {
  "kernelspec": {
   "display_name": "Python [conda env:thesis]",
   "language": "python",
   "name": "conda-env-thesis-py"
  },
  "language_info": {
   "codemirror_mode": {
    "name": "ipython",
    "version": 3
   },
   "file_extension": ".py",
   "mimetype": "text/x-python",
   "name": "python",
   "nbconvert_exporter": "python",
   "pygments_lexer": "ipython3",
   "version": "3.7.6"
  }
 },
 "nbformat": 4,
 "nbformat_minor": 4
}
