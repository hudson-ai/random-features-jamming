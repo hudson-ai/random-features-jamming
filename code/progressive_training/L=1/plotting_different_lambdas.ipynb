{
 "cells": [
  {
   "cell_type": "code",
   "execution_count": null,
   "metadata": {},
   "outputs": [],
   "source": [
    "# Post-Processing\n",
    "import pickle\n",
    "import pandas as pd \n",
    "import numpy as np\n",
    "import os\n",
    "\n",
    "from matplotlib import pyplot as plt\n",
    "%matplotlib inline\n",
    "%config InlineBackend.figure_format = 'svg'"
   ]
  },
  {
   "cell_type": "code",
   "execution_count": null,
   "metadata": {},
   "outputs": [],
   "source": [
    "X_train, X_test, y_train, y_test = pickle.load(open('mnist.pkl', 'rb'))"
   ]
  },
  {
   "cell_type": "code",
   "execution_count": null,
   "metadata": {},
   "outputs": [],
   "source": [
    "from matplotlib import colors as mcolors\n",
    "from matplotlib.colors import LinearSegmentedColormap\n",
    "\n",
    "cmap = LinearSegmentedColormap.from_list(\n",
    "    'Mei2019', \n",
    "    np.array([\n",
    "        (243, 232, 29),\n",
    "        (245, 173, 47),\n",
    "        (140, 193, 53),\n",
    "        (50,  191, 133),\n",
    "        (23,  167, 198),\n",
    "        (36,  123, 235),\n",
    "        (53,  69,  252),\n",
    "        (52,  27,  203)\n",
    "    ])/255., \n",
    "    N=256\n",
    ")\n",
    "\n",
    "# cmap = cc.m_bmy\n",
    "\n",
    "gradient = np.linspace(0, 1, 256)\n",
    "gradient = np.vstack((gradient, gradient))\n",
    "fig = plt.figure(figsize=(6,.5))\n",
    "img = plt.imshow(gradient, aspect='auto', cmap=cmap)\n",
    "title = plt.title('Colormap stolen from Mei2019')\n",
    "\n",
    "norm=mcolors.LogNorm()"
   ]
  },
  {
   "cell_type": "code",
   "execution_count": null,
   "metadata": {},
   "outputs": [],
   "source": [
    "results = pickle.load(open('results_different_lambdas.pkl', 'rb')) + pickle.load(open('results_end_to_end.pkl', 'rb'))\n",
    "result_df = pd.DataFrame.from_dict(results)"
   ]
  },
  {
   "cell_type": "code",
   "execution_count": null,
   "metadata": {},
   "outputs": [],
   "source": [
    "force = lambda y,f: 1 - y*f\n",
    "loss = lambda y,f: np.mean(np.maximum(0, force(y,f))**2, -1)\n",
    "N_del = lambda y,f: np.sum(force(y,f) >= 0, -1)\n",
    "\n",
    "result_df['test_loss'] = result_df.y_test_hat.apply(lambda f: loss(y_test, f))\n",
    "result_df['train_loss'] = result_df.y_train_hat.apply(lambda f: loss(y_train, f))\n",
    "result_df['N_del'] = result_df.y_train_hat.apply(lambda f: N_del(y_train, f))\n",
    "result_df['forces'] = result_df.y_train_hat.apply(lambda f: force(y_train, f))\n",
    "\n",
    "result_df['N/P'] = result_df['N']/result_df['P']\n",
    "result_df['P/N'] = result_df['P']/result_df['N']\n",
    "result_df['N_del/P'] = result_df['N_del']/result_df['P']\n",
    "result_df['N_del/N'] = result_df['N_del']/result_df['N']"
   ]
  },
  {
   "cell_type": "code",
   "execution_count": null,
   "metadata": {},
   "outputs": [],
   "source": [
    "result_end_to_end_df = result_df[result_df['lambda'] == 0]\n",
    "result_df = result_df[result_df['lambda'] > 0]"
   ]
  },
  {
   "cell_type": "code",
   "execution_count": null,
   "metadata": {},
   "outputs": [],
   "source": [
    "data = result_df.sort_values('lambda', ascending=True)\n",
    "plt.scatter(data['N_del/N'], data['train_loss'], c=data['lambda'], alpha=.5, cmap=cmap.reversed(), norm=norm)\n",
    "# plt.yscale('log')\n",
    "plt.xscale('log')\n",
    "plt.colorbar(label=r'$\\lambda$ (regularization)')\n",
    "plt.xlabel(r'$N_\\Delta/N$')\n",
    "plt.ylabel(r'Train $\\mathcal{L}$')\n",
    "\n",
    "data = result_end_to_end_df\n",
    "plt.scatter(data['N_del/N'], data['train_loss'], c='k', marker='x')"
   ]
  },
  {
   "cell_type": "code",
   "execution_count": null,
   "metadata": {},
   "outputs": [],
   "source": [
    "data = result_df.sort_values('lambda', ascending=False)\n",
    "plt.scatter(data['N_del/N'], data['train_loss'], c=data['lambda'], alpha=.5, cmap=cmap.reversed(), norm=norm)\n",
    "plt.yscale('log')\n",
    "plt.xscale('log')\n",
    "plt.colorbar(label=r'$\\lambda$ (regularization)')\n",
    "plt.xlabel(r'$N_\\Delta/N$')\n",
    "plt.ylabel(r'Train $\\mathcal{L}$')\n",
    "\n",
    "data = result_end_to_end_df.query('N < 200')\n",
    "plt.scatter(data['N_del/N'], data['train_loss'], c='k', marker='x')"
   ]
  },
  {
   "cell_type": "code",
   "execution_count": null,
   "metadata": {},
   "outputs": [],
   "source": [
    "data = result_end_to_end_df.query('N < 300')\n",
    "plt.scatter(data['N_del/N'], data['train_loss'], c=data['N'], marker='x')\n",
    "plt.colorbar(norm=norm)\n",
    "plt.yscale('log')\n",
    "plt.xscale('log')"
   ]
  },
  {
   "cell_type": "code",
   "execution_count": null,
   "metadata": {},
   "outputs": [],
   "source": [
    "data = result_df.sort_values('lambda', ascending=True)\n",
    "plt.scatter(data['N_del/N'], data['test_loss'], c=data['lambda'], alpha=.5, cmap=cmap.reversed(), norm=norm)\n",
    "plt.yscale('log')\n",
    "plt.xscale('log')\n",
    "plt.colorbar(label=r'$\\lambda$ (regularization)')\n",
    "plt.xlabel(r'$N_\\Delta/N$')\n",
    "plt.ylabel(r'Test $\\mathcal{L}$')\n",
    "\n",
    "data = result_end_to_end_df.query('N < 200')\n",
    "plt.scatter(data['N_del/N'], data['test_loss'], c='k', marker='x')"
   ]
  },
  {
   "cell_type": "code",
   "execution_count": null,
   "metadata": {},
   "outputs": [],
   "source": [
    "data = result_df.sort_values('lambda', ascending=True)\n",
    "plt.scatter(data['P/N'], data['N_del/N'], c=data['lambda'], alpha=.5, cmap=cmap.reversed(), norm=norm)\n",
    "plt.colorbar(label=r'$\\lambda$ (regularization)')\n",
    "plt.yscale('log')\n",
    "plt.xscale('log')\n",
    "plt.xlabel(r'$P/N$')\n",
    "plt.ylabel(r'$N_\\Delta/N$')\n",
    "\n",
    "\n",
    "data = result_end_to_end_df\n",
    "plt.scatter(data['P/N'], data['N_del/N'], c='k', marker='x')"
   ]
  },
  {
   "cell_type": "code",
   "execution_count": null,
   "metadata": {},
   "outputs": [],
   "source": [
    "plt.figure(figsize=(9,6))\n",
    "data = result_df.sort_values('lambda', ascending=False)\n",
    "data = data[data['lambda'] == 1e-5]\n",
    "\n",
    "#invisible plot to set the limits correctly because matplotlib gets confused with log scale scatters\n",
    "x = data['N_del/N']\n",
    "y = data['train_loss']\n",
    "\n",
    "plt.plot(x, y, color='none')\n",
    "plt.scatter(x, y, c=data['lambda'], cmap=cmap, norm=norm, alpha=.7)\n",
    "plt.colorbar(label=r'$\\lambda$ (regularization)')\n",
    "\n",
    "plt.xlabel(r'$N_\\Delta/N$')\n",
    "plt.ylabel(r'Train $\\mathcal{L}$')\n",
    "\n",
    "# plt.yscale('log')\n",
    "plt.xscale('log')\n",
    "plt.axvline(1, color='k',ls=':')"
   ]
  },
  {
   "cell_type": "code",
   "execution_count": null,
   "metadata": {},
   "outputs": [],
   "source": [
    "plt.figure(figsize=(9,6))\n",
    "data = result_df.sort_values('lambda', ascending=False)\n",
    "data = data[(data['lambda'] == 1e-5) | (data['lambda'] == 1e-13 )]\n",
    "\n",
    "#invisible plot to set the limits correctly because matplotlib gets confused with log scale scatters\n",
    "x = data['N_del/N']\n",
    "y = data['test_loss']\n",
    "\n",
    "plt.plot(x, y, color='none')\n",
    "plt.scatter(x, y, c=data['lambda'], cmap=cmap, norm=norm, alpha=.7)\n",
    "plt.colorbar(label=r'$\\lambda$ (regularization)')\n",
    "\n",
    "plt.xlabel(r'$N_\\Delta/N$')\n",
    "plt.ylabel(r'Test $\\mathcal{L}$')\n",
    "\n",
    "plt.yscale('log')\n",
    "plt.xscale('log')\n",
    "plt.axvline(1, color='k',ls=':')\n",
    "plt.axvline(21, color='k',ls=':')"
   ]
  },
  {
   "cell_type": "code",
   "execution_count": null,
   "metadata": {},
   "outputs": [],
   "source": [
    "plt.figure(figsize=(9,6))\n",
    "data = result_df.sort_values('lambda', ascending=False)\n",
    "data = data[(data['lambda'] == 1e-5) | (data['lambda'] == 1e-13)]\n",
    "\n",
    "#invisible plot to set the limits correctly because matplotlib gets confused with log scale scatters\n",
    "x = data['P/N']\n",
    "y = data['N_del/N']\n",
    "\n",
    "plt.plot(x, y, color='none')\n",
    "plt.scatter(x, y, c=data['lambda'], cmap=cmap, norm=norm, alpha=.7)\n",
    "plt.colorbar(label=r'$\\lambda$ (regularization)')\n",
    "\n",
    "data = result_end_to_end_df.query('N < 200')\n",
    "plt.scatter(data['P/N'], data['N_del/N'], c='k', marker='x')\n",
    "\n",
    "\n",
    "plt.xlabel('P/N')\n",
    "plt.ylabel(r'$N_\\Delta/N$')\n",
    "\n",
    "plt.yscale('log')\n",
    "plt.xscale('log')\n",
    "plt.axhline(1, color='k',ls=':')\n",
    "plt.axhline(21, color='k',ls=':')"
   ]
  },
  {
   "cell_type": "code",
   "execution_count": null,
   "metadata": {},
   "outputs": [],
   "source": [
    "result_df['lambda']"
   ]
  }
 ],
 "metadata": {
  "kernelspec": {
   "display_name": "Python [conda env:thesis]",
   "language": "python",
   "name": "conda-env-thesis-py"
  },
  "language_info": {
   "codemirror_mode": {
    "name": "ipython",
    "version": 3
   },
   "file_extension": ".py",
   "mimetype": "text/x-python",
   "name": "python",
   "nbconvert_exporter": "python",
   "pygments_lexer": "ipython3",
   "version": "3.8.5"
  }
 },
 "nbformat": 4,
 "nbformat_minor": 4
}
