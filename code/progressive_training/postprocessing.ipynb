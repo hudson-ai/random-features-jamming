{
 "cells": [
  {
   "cell_type": "code",
   "execution_count": 8,
   "metadata": {},
   "outputs": [],
   "source": [
    "# Post-Processing\n",
    "import pickle\n",
    "import pandas as pd\n",
    "import numpy as np\n",
    "\n",
    "import os\n",
    "\n",
    "import tensorflow as tf\n",
    "\n",
    "\n",
    "from sklearn.svm import LinearSVC as SVM\n",
    "\n",
    "import tqdm.auto as tqdm\n",
    "\n",
    "%config InlineBackend.figure_format = 'retina'"
   ]
  },
  {
   "cell_type": "code",
   "execution_count": 2,
   "metadata": {},
   "outputs": [],
   "source": [
    "model_dir = 'models'\n",
    "model_names = os.listdir(model_dir)\n",
    "X_train, X_test, y_train, y_test = pickle.load(open('mnist.pkl', 'rb'))\n",
    "lamb = 1e-13\n",
    "\n",
    "results = []"
   ]
  },
  {
   "cell_type": "code",
   "execution_count": null,
   "metadata": {},
   "outputs": [
    {
     "data": {
      "application/vnd.jupyter.widget-view+json": {
       "model_id": "e5ae453add2942cda786f930733616c2",
       "version_major": 2,
       "version_minor": 0
      },
      "text/plain": [
       "HBox(children=(FloatProgress(value=0.0, max=82.0), HTML(value='')))"
      ]
     },
     "metadata": {},
     "output_type": "display_data"
    },
    {
     "data": {
      "application/vnd.jupyter.widget-view+json": {
       "model_id": "cd9b428d026847a7a245a99500b71b91",
       "version_major": 2,
       "version_minor": 0
      },
      "text/plain": [
       "HBox(children=(FloatProgress(value=0.0, max=89.0), HTML(value='')))"
      ]
     },
     "metadata": {},
     "output_type": "display_data"
    }
   ],
   "source": [
    "for model_name in tqdm.tqdm(model_names):\n",
    "    model_path = os.path.join(model_dir, model_name)\n",
    "\n",
    "    P = int(model_name.split('-')[0].split('_')[1])\n",
    "    d = int(model_name.split('-')[1].split('_')[1])\n",
    "    N = int(model_name.split('-')[2].split('_')[1])\n",
    "\n",
    "    full_model = tf.keras.models.load_model(model_path+'/MODEL')\n",
    "    weight_names = [p[:p.find('.index')] for p in os.listdir(model_path) if p.endswith('.ckpt.index')]\n",
    "\n",
    "    for weight_name in tqdm.tqdm(weight_names, leave=False):\n",
    "        step = int(weight_name.split('.')[0].split('_')[1])\n",
    "\n",
    "        weight_path = os.path.join(model_path, weight_name)\n",
    "        full_model.load_weights(weight_path)\n",
    "\n",
    "        intermed_model = tf.keras.Sequential([\n",
    "            tf.keras.layers.InputLayer(d, name='inputs'),\n",
    "            full_model.get_layer('intermediate')\n",
    "        ])\n",
    "\n",
    "        train_features = intermed_model(X_train)\n",
    "        test_features = intermed_model(X_test)\n",
    "\n",
    "        C = 1/(N*lamb)\n",
    "\n",
    "        svm = SVM(penalty='l2', loss='squared_hinge', dual=False, fit_intercept=False, C=C, )\n",
    "        svm = svm.fit(train_features, y_train)\n",
    "\n",
    "        y_train_hat = svm.decision_function(train_features)\n",
    "        y_test_hat = svm.decision_function(test_features)\n",
    "\n",
    "        result = {\n",
    "            \"P\": P,\n",
    "            \"N\": N,\n",
    "            \"d\": d,\n",
    "            \"lambda\": lamb,\n",
    "            \"C\": C,\n",
    "            \"y_train_hat\": y_train_hat,\n",
    "            \"y_test_hat\": y_test_hat\n",
    "\n",
    "        }\n",
    "        results.append(result)\n",
    "        \n",
    "# pickle.dump(results, open('results.pkl', 'wb'))"
   ]
  }
 ],
 "metadata": {
  "kernelspec": {
   "display_name": "Python [conda env:thesis]",
   "language": "python",
   "name": "conda-env-thesis-py"
  },
  "language_info": {
   "codemirror_mode": {
    "name": "ipython",
    "version": 3
   },
   "file_extension": ".py",
   "mimetype": "text/x-python",
   "name": "python",
   "nbconvert_exporter": "python",
   "pygments_lexer": "ipython3",
   "version": "3.7.6"
  }
 },
 "nbformat": 4,
 "nbformat_minor": 4
}
